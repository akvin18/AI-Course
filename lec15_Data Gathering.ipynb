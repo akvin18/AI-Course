{
 "cells": [
  {
   "cell_type": "markdown",
   "id": "356fd4a2-42ed-4856-b2f5-efe06da8e329",
   "metadata": {},
   "source": [
    "## Introduction to Data Gathering\n"
   ]
  },
  {
   "cell_type": "markdown",
   "id": "21d6d22d-8e0b-4403-94b1-476c31ed0b42",
   "metadata": {},
   "source": [
    "## Why Data is Crucial for ML & NLP:\n",
    "* Data is the cornerstone of both Machine Learning (ML) and Natural Language Processing (NLP). High-quality, relevant data is essential for training models that can understand and predict complex patterns. Understanding where to find and how to gather relevant data is crucial for any data science project.\n"
   ]
  },
  {
   "cell_type": "markdown",
   "id": "f707a626-c777-4059-abcc-00f3ebe9bfdb",
   "metadata": {},
   "source": [
    "![Alt text](imgs/Data_Source.png)"
   ]
  },
  {
   "cell_type": "markdown",
   "id": "0fa67099-b657-4de1-8fdb-64ca5acf3751",
   "metadata": {},
   "source": [
    "##### Data Pipeline:\n",
    "* Data is collected, cleaned, and preprocessed before being used to train models. This pipeline ensures the data is suitable for machine learning tasks."
   ]
  },
  {
   "cell_type": "markdown",
   "id": "edd065ec-5f38-48fc-9e42-7a9527930783",
   "metadata": {},
   "source": [
    "##### Data Types:\n",
    "* Different types of data are used, including structured, unstructured, and semi-structured data. Each type presents unique challenges and opportunities for model training."
   ]
  },
  {
   "cell_type": "markdown",
   "id": "04f560f1-70d3-4707-b890-2f4dd4c5f7bb",
   "metadata": {},
   "source": [
    "### The Critical Role of High-Quality Data"
   ]
  },
  {
   "cell_type": "markdown",
   "id": "cea64390-8743-49b2-966a-c14d4f28ca37",
   "metadata": {},
   "source": [
    "##### Why High-Quality Data is Essential:\n",
    "* Accuracy: Better data quality results in higher model accuracy.\n",
    "Consistency: Ensures consistent performance across different scenarios.\n",
    "* Relevance: Relevant data helps in building models that understand context better."
   ]
  },
  {
   "cell_type": "markdown",
   "id": "dac04c6b-862a-4f49-8433-1cbe606314f6",
   "metadata": {},
   "source": [
    "##### Data Quality Measures:\n",
    "* To ensure high-quality data, various measures are taken including data validation, cleaning, and augmentation. These steps help in removing noise and errors."
   ]
  },
  {
   "cell_type": "markdown",
   "id": "149ed199-67e1-49a4-ba7c-1f709e52e03b",
   "metadata": {},
   "source": [
    "##### Impact on Model Performance:\n",
    "* High-quality data significantly enhances model performance, leading to better predictions and insights. Poor quality data, on the other hand, can mislead models and result in inaccurate outcomes."
   ]
  },
  {
   "cell_type": "markdown",
   "id": "9c19f7f6-8f3a-407a-b618-11315036dc10",
   "metadata": {},
   "source": [
    "### Data Sources: Kaggle, Wikipedia, Huggingface, API, PDFs, (probably scraping as well...)"
   ]
  },
  {
   "cell_type": "markdown",
   "id": "35344ffc-b69d-4346-99a9-e943f032d565",
   "metadata": {},
   "source": [
    "In the realm of data science and machine learning, the quality and diversity of data sources play a critical role in the success of any project. Leveraging various platforms and formats can provide a rich and comprehensive dataset, enabling more accurate models and insightful analysis. Below are some key data sources that can be utilized:"
   ]
  },
  {
   "cell_type": "markdown",
   "id": "f82df732-7262-4a1c-afba-747f478b6306",
   "metadata": {},
   "source": [
    "##### Kaggle\n",
    "- Popular platform for data science competitions.\n",
    "- Offers a wide array of datasets across different domains.\n",
    "- Includes notebooks and kernels for practical implementation.\n"
   ]
  },
  {
   "cell_type": "markdown",
   "id": "5773e739-9f44-4558-9428-41408c0cad87",
   "metadata": {},
   "source": [
    "##### Wikipedia\n",
    "- Rich source of structured and unstructured data.\n",
    "- Contains extensive information on a vast range of topics.\n",
    "- Data can be extracted using APIs or scraping tools.\n"
   ]
  },
  {
   "cell_type": "markdown",
   "id": "548dd080-2030-43b6-8279-eebf8d4e872a",
   "metadata": {},
   "source": [
    "##### Huggingface\n",
    "- Leading platform for natural language processing models.\n",
    "- Provides access to pre-trained models and datasets.\n",
    "- Useful for tasks such as text generation, translation, and sentiment analysis.\n"
   ]
  },
  {
   "cell_type": "markdown",
   "id": "a6a1b573-a091-4196-9349-b5a722edaa47",
   "metadata": {},
   "source": [
    "##### API\n",
    "- Application Programming Interfaces offer dynamic data access.\n",
    "- Allows integration with various services and real-time data retrieval.\n",
    "- Commonly used for financial data, social media trends, and weather updates."
   ]
  },
  {
   "cell_type": "markdown",
   "id": "0d8098f7-1e4a-4e3e-8ef8-750fb73183bb",
   "metadata": {},
   "source": [
    "##### Scraping\n",
    "- Method of extracting data from websites.\n",
    "- Can be used to gather data not available through APIs.\n",
    "- Requires careful handling to comply with legal and ethical standards.\n"
   ]
  },
  {
   "cell_type": "markdown",
   "id": "c65f73e3-631a-4204-8b16-ac56e30330b4",
   "metadata": {},
   "source": [
    "##### PDFs\n",
    "- Source of official documents, reports, and research papers.\n",
    "- Requires specialized tools for text extraction and parsing.\n",
    "- Often used in academic and corporate researh.\n"
   ]
  },
  {
   "cell_type": "markdown",
   "id": "854d8792-8fc5-40a8-bdcc-3ef1efbb3e1a",
   "metadata": {},
   "source": [
    "### Demonstration how one could collect Data from Wikipedia using API, Scraping, PDF converter, or simply loading it from Huggingface & Kaggle\n",
    "\n",
    "In this section, we will explore various methods to collect data from Wikipedia and other sources. We will demonstrate how to use APIs, web scraping, PDF conversion, and direct loading from platforms like Huggingface and Kaggle.\n"
   ]
  },
  {
   "cell_type": "markdown",
   "id": "5dadee02-7235-4d93-8048-68fd28525f25",
   "metadata": {},
   "source": [
    "#### Collecting Data from Wikipedia\n"
   ]
  },
  {
   "cell_type": "markdown",
   "id": "f8014526-5b6f-4307-90fa-86e39d7e43da",
   "metadata": {},
   "source": [
    "Wikipedia is probably the most used & popular data source in NLP community. There are several ways to load data from wikipedia. In this lecture we cover following methods:\n",
    "* Loading from HuggingFace\n",
    "* Loading using Wikipedia API\n",
    "* Loading from kaggle (at least some part of it)\n",
    "* Use web-scraping"
   ]
  },
  {
   "cell_type": "markdown",
   "id": "18dbe0b6-2492-4357-9bb7-7acb556bf910",
   "metadata": {},
   "source": [
    "#### Loading Data from Huggingface\n"
   ]
  },
  {
   "cell_type": "code",
   "execution_count": 1,
   "id": "5fab6a6e-82af-49e1-b5f5-db8b2701021e",
   "metadata": {},
   "outputs": [
    {
     "data": {
      "text/plain": [
       "DatasetDict({\n",
       "    train: Dataset({\n",
       "        features: ['id', 'url', 'title', 'text'],\n",
       "        num_rows: 169602\n",
       "    })\n",
       "})"
      ]
     },
     "execution_count": 1,
     "metadata": {},
     "output_type": "execute_result"
    }
   ],
   "source": [
    "# !pip install datasets\n",
    "\n",
    "from datasets import load_dataset\n",
    "\n",
    "# Dataset: https://huggingface.co/datasets/wikimedia/wikipedia\n",
    "# ka part: https://huggingface.co/datasets/wikimedia/wikipedia/viewer/20231101.ka\n",
    "# You can download dataset manually from https://huggingface.co/datasets/graelo/wikipedia\n",
    "# files and versions -> data -> 20230901 -> ka (here will be dataset files)\n",
    "\n",
    "# or we can use Datasets library to load the data\n",
    "dataset = load_dataset(\"wikimedia/wikipedia\", \"20231101.ka\")\n",
    "dataset"
   ]
  },
  {
   "cell_type": "markdown",
   "id": "69d488fe-8f40-4f75-918c-a57ae6c09736",
   "metadata": {},
   "source": [
    "![Alt text](imgs/huggingface_wiki_ka.png)"
   ]
  },
  {
   "cell_type": "code",
   "execution_count": 21,
   "id": "0696922f-d85d-46fc-b8bd-b8e336a6ddd0",
   "metadata": {},
   "outputs": [
    {
     "data": {
      "text/plain": [
       "{'id': '830',\n",
       " 'url': 'https://ka.wikipedia.org/wiki/%E1%83%A8%E1%83%9D%E1%83%97%E1%83%90%20%E1%83%A0%E1%83%A3%E1%83%A1%E1%83%97%E1%83%90%E1%83%95%E1%83%94%E1%83%9A%E1%83%98',\n",
       " 'title': 'შოთა რუსთაველი',\n",
       " 'text': 'შოთა რუსთაველი, რუსთველი (*დაახ. 1160/65 – ? ) — XII საუკუნის დიდი ქართველი პოეტი და მოაზროვნე, ავტორი საქვეყნოდ ცნობილი პოემისა „ვეფხისტყაოსანი“. მსოფლიოს მრავალ ლიტერატურათმცოდნეთა მიერ მიიჩნევა შუასაუკუნეების მსოფლიო ლიტერატურის ერთ-ერთ უმნიშვნელოვანეს წარმომადგენლად.\\n\\nწარმომავლობა \\n\\nშოთა რუსთაველის ცხოვრებისა და მოღვაწეობის შესახებ ჩვენამდე თითქმის არავითარ ცნობას არ მოუღწევია. რიგი ისტორიული, ლიტერატურული და ფოლკლორული წყაროების საფუძველზე იქმნება დიდი პოეტის ცხოვრებისა და მოღვაწეობის არაერთი ვერსია. რუსთაველის ბიოგრაფიული მონაცემების დასადგენად ერთ-ერთი ძირითადი წყარო თვით მისი პოემაა.\\n\\nრუსთაველის ავტორობას გვიმოწმებს „ვეფხისტყაოსნის“ პროლოგი („დავჯდე, რუსთველმან გავლექსე, მისთვის გულ-ლახვარსობილი“, „მე, რუსთველი, ხელობითა ვიქმ საქმესა ამა დარი“), ეპილოგი, აგრეთვე XV-XVIII საუკუნეების ქართული მწერლობა  (ამაზე ადრინდელი ცნობები არ მოგვეპოვება). სახელწოდება რუსთაველი (რუსთველი) უკავშირდება გეოგრაფიულ პუნქტს რუსთავს და ნიშნავს რუსთავის მკვიდრს ან რუსთავის ციხე-ქალაქის გამგებელს, მეპატრონეს. იმდროინდელი საქართველოს სოციალურ-პოლიტიკური სინამდვილე გვაფიქრებინებს, რომ მეორე მნიშვნელობა უნდა იყოს სწორი. რუსთაველის სახელის შესახებ პირდაპირ ცნობას გვაწვდიან თეიმურაზ I (იგი „ვეფხისტყაოსნის“ პერსონაჟთა შესახებ ამბობს: „ესენი შოთა რუსთველმან შეამკო არსთა მკობითაო“) და XVII-XVIII საუკუნეებში სხვა ქართველი მწერლები. ამასვე ადასტურებს რუსთაველის ფრესკული პორტრეტი XIII საუკუნის I ნახევრის წარწერით, რომელიც რესტავრირებული სახითაა შემონახული იერუსალიმის ჯვრის მონასტრის სვეტზე (ტ. გაბაშვილის მიერ 1757-1758 ნანახი და შემდეგში ზეთის საღებავების სქელი ფენით დაფარული ფრესკა  გამოავლინა იერუსალიმის სამეცნიერო ექსპედიციამ) და ამავე საუკუნეში მონასტრის სააღაპო წიგნში მოსახსენებელი „შოთაჲსა ჲ“, რომელიც იგივე რუსთაველი უნდა იყოს. ფრესკის წარწერის მიხედვით, რუსთაველს შეუკეთებია და განუახლებია ჯვრის მონასტერი.\\n\\nსავარაუდოა, რომ პოეტი ყოფილა სამეფო კარის დიდი მოხელე, ვეზირი, თამარ მეფესთან დაახლოებული პირი. როგორც ჩანს, მას ევალებოდა ქართულ საკულტო ძეგლებზე, მ. შ. ჯვრის მონასტერზე ზრუნვა. გამოთქმულია მოსაზრება, რომ პოეტი სიცოცხლის მიწურულს გაემგზავრა იერუსალიმში, აღიკვეცა ბერად, იქვე აღესრულა და იქვეა დასაფლავებული. არ მართლდება გადმოცემა პოეტის ბერად შედგომაზე: ფრესკაზე გამოხატული ქართველი დიდებული ერისკაცის სამოსელშია გამოწყობილი. თანაც რუსთაველს, როგორც ვეზირს, შეეძლო საქართველოდანვე წარემართა მონასტრის შეკეთება-განახლებისათვის საჭირო საქმიანობა. რუსთაველის ბიოგრაფიულ ცნობების შემცველ სხვა წერილობით წყაროებს ჩვენამდე არ მოუღწევია.  ხალხური გადმოცემით, პოეტი მესხი უნდა იყოს. მესხად თვლის მას პოეტი არჩილ II. ვეფხისტყაოსნის გაგრძელებანიც მიგვანიშნებს შოთას მესხურ წარმოშობაზე. შეასძლებელია სახელწოდება რუსთაველი უკავშირდებოდეს მესხეთის რუსთავს, რომელიც მდებარეობს ახალციხე-ასპინძის შარაგზის მახლობლად.\\n\\nპოეტის დაბადების თარიღად მიიჩნევენ 1160-1165 წლებს. ის ცხოვრობდა საქართველოს მეფის თამარისა და მისი მეუღლის დავით სოსლანის ზეობის პერიოდში, ქართული სახელმწიფოსა და მისი ხალხის მატერიალური და სულიერი აყვავების პერიოდში.\\n\\n1960 წელს პალესტინაში გაემგზავრნენ ქართველი მეცნიერები ი. აბაშიძე, გ. წერეთელი, ა. შანიძე, რომელთაც იერუსალიმის ჯვრის მონასტერში მოიძიეს და გადაიღეს სვეტზე გამოსახული შოთა რუსთაველის პორტრეტი. აქ მოპოვებული მასალით დასტურდება, რომ იგი იყო მეჭურჭლეთუხუცესი თამარის კარზე. ლეგენდის თანახმად, პოეტი გარდაიცვალა ჯვრის მონასტერში, თუმცა ეს ვერსია სადავოა.\\n\\nარის კიდევ ერთი ვერსია პოეტის წარმომავლობის შესახებ, რომელიც პავლე ინგოროყვამ გამოთქვა თავის მონოგრაფიაში „რუსთაველიანა“. მისი მიხედვით,\\nშოთა რუსთაველი ეკუთვნოდა უმაღლესი არისტოკრატიის წრეს. ეს დასტურდება პოემის შინაარსით. მას კარგად ესმოდა სამხედრო საქმე და მისი ისეთი ნიუანსები, რომელთაც მხოლოდ ცნობილი და გამოცდილი სარდალი თუ ფლობდა. ასევე ქვეყნის მართვისა და გამგეობის, სამეფო კარის ინტრიგების, ნადირობისა და ზეპური საზოგადოების გართობის სხვა სახეობათა ზედმიწევნით კარგი ცოდნა მეტყველებს, რომ შოთა რუსთაველი თავის ნაწარმოებში ბევრ შემთხვევაში ისტორიულ სინამდვილეს გადმოგვცემს. ასეთი დიდგვაროვანი და მაღალი ფეოდალი სახელით შოთა მისი თანამედროვე ეპოქის ისტორიულ წყაროებში მოხსენიებული  და მისი გვარის გენეოლოგია მეტნაკლებად ცნობილი უნდა იყოს.\\n\\nაქედან გამომდინარე, შესაძლებელია, რომ პოეტის პიროვნება იყოს შოთა გრიგოლის ძე ჰერეთის ერისთავი, ისტორიულ წყაროებში მოხსენიებული შოთა კუპარად. მას ჟამთააღმწერელი დადებითად არ ახასიათებს, თუმცა არც იმას უარყოფს, რომ უდიდესი სახელმწიფო მოღვაწე იყო და იმდროინდელ ყველა მნიშვნელოვან აქციაში იღებდა მონაწილეობას, მათ შორის კოხტათავის შეთქმულებაში.\\n\\nგანათლება \\nშოთა რუსთაველმა, როგორც ჩანს, ბრწყინვალე განათლება მიიღო ჯერ საქართველოში, იყალთოს აკადემიაში, შემდეგ – ბიზანტიაში; შეისწავლა ბერძნული, არაბული და სპარსული ენები, იცნობდა არა მარტო ქართველ მოაზროვნეთა ნაშრომებს, არამედ ანტიკურ ფილოსოფიას, ემპედოკლეს, ჰერაკლიტეს, პლატონის ნაშრომებს, აღმოსავლურ ლიტერატურას (ფირდოუსი, გურგანი, ნიზამი და სხვა). ყოველივე ეს, აგრეთვე პოეტის განსწავლულობა ასტრონომიაში, ასტროლოგიაში, გეოგრაფიაში, მედიცინაში, ფილოსოფიაში, სამართალში, ისტორიაში, სამხედრო საქმეში და სხვა, ასახულია მის პოემაში.\\n\\nმემკვიდრეობა \\nსაქართველოს რესპუბლიკის უმაღლესი ჯილდო ხელოვნებისა და ლიტერატურის დარგში შოთა რუსთაველის სახელს ატარებს (შოთა რუსთაველის სახელმწიფო პრემია). თბილისის მთავარ გამზირსაც რუსთაველის სახელი ჰქვია. ასევე არსებობს შოთა რუსთაველის სახელმწიფო აკადემიური თეატრი, შოთა რუსთაველის ქართული ლიტერატურის ინსტიტუტი საქართველოს მეცნიერებათა აკადემიასთან, და ა.შ.\\n\\n 1965 წლის ივლისი. შოთა რუსთაველის დაბადების 800 წლისთავთან დაკავშირებით შეიქმნა სრულიად საკავშირო საიუბილეო კომიტეტი პოეტ ნ. ტიხონოვის თავმჯდომარეობით.\\n 1965 წლის ოქტომბერი. საბჭოთა კავშირის მწერალთა კავშირში გაიმართა შოთა რუსთაველის დაბადების 800 წლისთავის აღსანიშნავი საიუბილეო კომიტეტის სხდომა.\\n 1966 წლის სექტემბერი. გაიმართა შოთა რუსთაველის დაბადების 800 წლისთავისადმი მიძღვნილი საქართველოს მეცნიერებათა აკადემიის სესია. რომელშიც მონაწილეობა მიიღეს საბჭოთა და უცხოელმა მწერლებმა და მეცნიერებმა.\\n 1966 წლის სექტემბერი. ახალციხეში გაიმართა მიტინგი რუსთაველის ძეგლის გახსნასთან დაკავშირებით.\\n 1966 წლის სექტემბერი. ს.ჯანაშიას სახელობის სახელმწიფო მუზეუმში გაიხსნა რუსთაველის ეპოქის მატერიალური კულტურის ამსახველი გამოფენა.\\n 1966 წლის სექტემბერი. თბილისის სახელმწიფო უნივერსიტეტში რუსთაველის 800 წლისთავის საიუბილეოდ წიგნისა და ილუსტრაციის გამოფენა მოეწყო, სადაც „ვეფხისტყაოსნის“ მრავალი ილუსტრაცია წარმოადგინეს.\\n 1966 წლის ოქტომბერი. თბილისში რუსთაველის ძეგლთან, გაიმართა რუსთაველის 800 წლისთავის იუბილისადმი მიძღვნილი საზოგადოების შეკრება.\\n 1966 წლის ოქტომბერი. ზ. ფალიაშვილის სახელობის ოპერისა და ბალეტის სახელმწიფო აკადემიურ თეატრში გაიმართა რუსთაველის 800 წლისთავისადმი მიძღვნილი საიუბილეო კონცერტი.\\n 1966 წლის ოქტომბერი. თბილისის სპორტის სასახლეში გაიმართა რუსთაველის დაბადების 800 წლისთავისადმი მიძღვნილი თეატრალიზებული წარმოდგენა „ოდა რუსთაველზე.“\\n 1966 წლის ოქტომბერი. თბილისის „ლოკომოტივის“ სტადიონზე გაიმართა რუსთაველის 800 წლისთავის იუბილისადმი მიძღვნილი სპორტული დღესასწაული.\\n 1966 წლის ოქტომბერი. ქართული პოეზიის დღეებით დაიწყო მოსკოვში რუსთაველის 800 წლისთავის საიუბილეო ზეიმი.\\n 1966 წლის ოქტომბერი. მოსკოვში „ბოლშაია გრუზინსკაიას“ სკვერში გაიხსნა შოთა რუსთაველის ძეგლი.\\n 1966 წლის ოქტომბერი. მოსკოვის დიდ თეატრში რუსთაველის 800 წლისთავისადმი მიძღვნილი საზეიმო საღამო ჩატარდა.\\n 1966 წლის ოქტომბერი. რუსთაველის სახელობის პრემიები მიენიჭათ უკრაინელ პორტს მიკოლა ბაჟანს და რუს მწერალს ნიკოლოზ ტიხონოვს.\\n 1966 წლის ოქტომბერი. მოსკოვის კრემლის ყრილობათა სასახლეში რუსთაველის 800 წლისთავისადმი მიძღვნილი საქართველოს ხელოვნების ოსტატთა კონცერტი გაიმართა.\\n საბჭოთა კავშირის კულტურის მინისტრი ეკატერინა ფურცევა შოთა რუსთაველის იუბილეზე. ფოტოსურათი ამოღებულია ალბომიდან \"როგორ ვიზარდეთ\"\\n\\nლიტერატურა\\n\\nრესურსები ინტერნეტში \\n\\n შოთა რუსთაველის შემოქმედება (ქართულ ენაზე)\\n შოთა რუსთაველის შემოქმედება (ინგლისურ ენაზე)\\n შოთა რუსთაველის შემოქმედება (რუსულ ენაზე)\\n შოთა რუსთაველი.\\n\\nსქოლიო\\n\\nქართველი პოეტები'}"
      ]
     },
     "execution_count": 21,
     "metadata": {},
     "output_type": "execute_result"
    }
   ],
   "source": [
    "dataset['train'][6]"
   ]
  },
  {
   "cell_type": "markdown",
   "id": "482377e6-a22e-40c9-a206-ccf6e02516bc",
   "metadata": {},
   "source": [
    "#### Loading Data Using API\n"
   ]
  },
  {
   "cell_type": "code",
   "execution_count": 9,
   "id": "40593f31-b77a-4408-8a7c-528da9046fbb",
   "metadata": {},
   "outputs": [
    {
     "data": {
      "text/plain": [
       "<wikipediaapi.Wikipedia at 0x268cbcd8990>"
      ]
     },
     "execution_count": 9,
     "metadata": {},
     "output_type": "execute_result"
    }
   ],
   "source": [
    "# ! pip install wikipedia-api\n",
    "import wikipediaapi\n",
    "\n",
    "# გავამზადოთ Wikipedia API ქართული  ვიკიპედიისთვის\n",
    "# საჭიროა შემდეგი ფორმატი: wikipediaapi.Wikipedia('სახელი (email)', 'ენა')\n",
    "wiki_wiki = wikipediaapi.Wikipedia('MyWikipediProject (MyWikipediProject@gmail.com)', 'ka')\n",
    "wiki_wiki"
   ]
  },
  {
   "cell_type": "code",
   "execution_count": 11,
   "id": "18f20bdd-5f6f-4a55-b182-fcdd5597f4c8",
   "metadata": {},
   "outputs": [],
   "source": [
    "# განვსაზღვროთ ფუნქცია რომელიც სათაურზე დაყრდნობით წამოიღებს სტატიის ტექსტს\n",
    "def fetch_wikipedia_article(title: str) -> None:\n",
    "    page = wiki_wiki.page(title)\n",
    "    if page.exists():\n",
    "        print(f\"სათაური: {page.title}\\n\")\n",
    "        print(f\"სრული ტექსტი: {page.text[:1000]}...\")  # დავჯეჭდოთ მხოლოდ 1000 სიმბოლო\n",
    "    else:\n",
    "        print(f\"გვერდი სახელად '{title}' არ არსებობს.\")"
   ]
  },
  {
   "cell_type": "code",
   "execution_count": 12,
   "id": "e5b73416-c9c9-41c9-8852-87a99c0879af",
   "metadata": {},
   "outputs": [
    {
     "name": "stdout",
     "output_type": "stream",
     "text": [
      "სათაური: დავით IV აღმაშენებელი\n",
      "\n",
      "სრული ტექსტი: დავით IV აღმაშენებელი (დ. 1073, ქუთაისი — გ.  24 იანვარი, 1125) — საქართველოს მეფე 1089-1125 წლებში, გიორგი II-ის ძე, დიდი სახელმწიფო მოღვაწე და ძლევამოსილი მხედართმთავარი, რომელსაც განსაკუთრებული ადგილი უკავია საქართველოს ისტორიაში.\n",
      "დავით IV ტახტზე 1089 წელს 16 წლის ასაკში ავიდა. მამამისი, გიორგი II, შექმნილი პოლიტიკური მდგომარეობიდან გამომდინარე, იძულებული გახდა შვილის სასარგებლოდ ტახტზე უარი ეთქვა. დავითს ძალიან მძიმე მემკვიდრეობა ერგო: ქვეყანა დარბეული იყო მტრის შემოსევებისაგან, თურქ-სელჩუკთა მომთაბარე ტომები სახლდებოდნენ დაპყრობილ ტერიტორიებზე და ქართველ ხალხს ფიზიკური განადგურების საფრთხეს უქმნიდნენ, დიდგვაროვანი ფეოდალები მეფეს ხშირად არ ემორჩილებოდნენ, საქართველოს მეფის ხელისუფლება ლიხის ქედის აღმოსავლეთით არ ვრცელდებოდა.\n",
      "დავით აღმაშენებელმა ოცდათექვსმეტწლიანი მმართველობის განმავლობაში ჩაატარა სიღრმისეული რეფორმები, რომლებმაც საბოლოოდ დაასრულეს ფეოდალური საქართველოს გაერთიანების პროცესი, მან ქვეყნიდან სელჩუკი დამპყრობლები განდევნა, საქართველო რეგიონის უძლიერეს სახელმწიფოდ აქცია...\n"
     ]
    }
   ],
   "source": [
    "# გამოყენების მაგალითი\n",
    "# გვერდის ურლ: https://ka.wikipedia.org/wiki/დავით_IV_აღმაშენებელი\n",
    "article_title = \"დავით IV აღმაშენებელი\" # შეიძლება ნებისმიერი არსებული სტატიის ტექსტის წამოღება\n",
    "fetch_wikipedia_article(article_title)"
   ]
  },
  {
   "cell_type": "markdown",
   "id": "6e231f94-56d6-4cd3-a2d2-1bf1e6ea8760",
   "metadata": {},
   "source": [
    "![Alt text](imgs/დავით_აღმაშენებელი.png)"
   ]
  },
  {
   "cell_type": "markdown",
   "id": "4dedf66b-d70c-4d99-aa46-ec9d56d68a6d",
   "metadata": {},
   "source": [
    "#### Loading Data from Kaggle\n"
   ]
  },
  {
   "cell_type": "code",
   "execution_count": 4,
   "id": "f65cb100-5db5-499b-a7ee-c336cb876487",
   "metadata": {},
   "outputs": [
    {
     "name": "stdout",
     "output_type": "stream",
     "text": [
      "^C\n",
      "Dataset URL: https://www.kaggle.com/datasets/jrobischon/wikipedia-movie-plots\n",
      "License(s): CC-BY-SA-4.0\n",
      "wikipedia-movie-plots.zip: Skipping, found more recently modified local copy (use --force to force download)\n"
     ]
    }
   ],
   "source": [
    "# !pip install kaggle\n",
    "\n",
    "# Dataset Link: https://www.kaggle.com/datasets/jrobischon/wikipedia-movie-plots\n",
    "\n",
    "!kaggle datasets download -d jrobischon/wikipedia-movie-plots"
   ]
  },
  {
   "cell_type": "markdown",
   "id": "0c8a7477-9933-4add-b4a5-2751b135225d",
   "metadata": {},
   "source": [
    "![Alt text](imgs/kaggle_wikipedia.png)"
   ]
  },
  {
   "cell_type": "markdown",
   "id": "41b5a776-9db0-4346-a395-5c4190df3cb2",
   "metadata": {},
   "source": [
    "#### Converting PDFs to Text (Additional)"
   ]
  },
  {
   "cell_type": "code",
   "execution_count": 11,
   "id": "b597a2de-7e57-4b7c-b5f5-83ecf4520bc7",
   "metadata": {},
   "outputs": [
    {
     "name": "stdout",
     "output_type": "stream",
     "text": [
      "<new_page>სარჩევი  \n",
      "დასაწყისი  \n",
      "ამბავი  როსტევან  არაბთა  მეფისა  \n",
      "როსტევან  მეფისაგან  და ავთანდილისაგან  ნადირობა  \n",
      "ნახვა  არაბთა  მეფისაგან  მის ყმისა  ვეფხისტყაოსნისა \n",
      "თინათინისაგან  ავთანდილის  გაგზავნა  მის ყმის  საძებრად  \n",
      "წიგნი  ავთანდილისა  თავის  ყმათა  თანა  \n",
      "ავთანდილისაგან  მის ყმისა  ძებნად  წასლვა  \n",
      "ამბავი  ავთანდილისა , ასმათს რომ  ეუბნების  ქვაბშიგან \n",
      "შეყრა  ტარიელისა  და ავთანდილისა  \n",
      "ტარიელისაგან  თავის  ამბის  მბობა  ავთანდილთანა  \n",
      "ამბავი  ტარიელის  გამიჯნუ რებისა  \n",
      "წიგნი  ნესტან-დარეჯანისა   საყვარელსა  თანა   მიწერილი  პირველი  \n",
      "წიგნი  ტარიელისა  საყვარელთანა  \n",
      "წიგნი  ტარიელისა  ხატაელთანა  \n",
      "ნესტანისაგან   ტარიელის  ხმობა  \n",
      "წიგნი  ხატაელთა  მეფისა , ტარიელის  წინაშე  მოწერილი  პასუხად  \n",
      "ტარიელისა  და ნესტანის  პირის -პირ შეყრა  \n",
      "ტარიელისაგან  ხატაეთს  წასლვა  და დიდი  ომი \n",
      "წიგნი  ტარიელისა  ინდოეთ  მეფის  წინაშე  და გამარჯვებით  შემოქცევა  \n",
      "წიგნი   ნესტან-დარეჯანისა  საყვარელსა  თანა  \n",
      "ტარიელის  ტირილი  და დაბნედა  \n",
      "წიგნი  ტარიელისა  საყვარელსა  თანა  პასუხად \n",
      "რჩევ\n"
     ]
    }
   ],
   "source": [
    "# # !pip install PyPDF2 pycryptodome==3.15.0\n",
    "from PyPDF2 import PdfReader\n",
    "\n",
    "reader = PdfReader('pdfs/shota-rustaveli-vefxistyaosani.pdf')\n",
    "page_texts = []\n",
    "for page in reader.pages[:10]: # წავიკითხოთ pdf-ის პირველი 10 გვერდი \n",
    "    page_texts.append(page.extract_text())\n",
    "text = '<new_page>'.join(page_texts)\n",
    "print(text[:1000])"
   ]
  },
  {
   "cell_type": "markdown",
   "id": "3ce940e7-e7aa-474b-8fd5-73cdfe29bcdb",
   "metadata": {},
   "source": [
    "![Alt text](imgs/vefxistyaosani_example.png)"
   ]
  },
  {
   "cell_type": "markdown",
   "id": "7a342618-5b56-4d26-ac1d-81bae72e5c87",
   "metadata": {},
   "source": [
    "### Template\n",
    "* What if data is not enough? Note: it's never enough, and in most cases, it just does not exist... yet.\n",
    "* Specifically in Georgian, NLP community is dead - Literally nothing exists.\n",
    "* But we still need it - Is there any way?..\n",
    "* Furtunately, there is - Data Augmentation.\n",
    "* Ways of data augmentation: rule based - classical (synonym replacement, random punctuation insertion/deletion); LLM Based - SOTA (Paraphrasing, Re-writing... or just Generating new, unique data points)"
   ]
  },
  {
   "cell_type": "markdown",
   "id": "a25d9318-d993-4e9d-99c2-314bf6502faf",
   "metadata": {},
   "source": [
    "### Data Augmentation\n",
    "\n",
    "Data augmentation is a technique used to increase the diversity of your training data without collecting new data. It is particularly useful in NLP to improve model robustness and performanc."
   ]
  },
  {
   "cell_type": "markdown",
   "id": "14806655-60f4-4279-9537-d783a82c37ba",
   "metadata": {},
   "source": [
    "### Classic Data Augmentation Methods\n",
    "\n",
    "1. **Synonym Replacement**: Replace words with their synonyms.\n",
    "2. **Random Insertion**: Insert random words into the text.\n",
    "3. **Random Deletion**: Randomly delete words from the text.\n",
    "4. **Back Translation**: Translate the text to another language and then back to the original language.\n",
    "\n",
    "These methods help to create variations in the text data, making the model more obust."
   ]
  },
  {
   "cell_type": "markdown",
   "id": "8187c389-bb06-449f-a294-39b0a1a69c30",
   "metadata": {},
   "source": [
    "- 1-3 slides about Classical Data Augmentation\n",
    "- Here should be demonstration of these methods."
   ]
  },
  {
   "cell_type": "markdown",
   "id": "d38a741a-101b-44f5-9569-c89bde97f734",
   "metadata": {},
   "source": [
    "### AI-based Data Augmentation with LLMs\n",
    "\n",
    "Large Language Models (LLMs) like OpenAI's GPT can be used for data augmentation by generating synthetic data points. This can be achieved through appropriate prompt engineering, where the model is given specific instructions to generate variations of the tex."
   ]
  },
  {
   "cell_type": "markdown",
   "id": "16dd207a-c03d-4d5f-9ed7-7747799f1a01",
   "metadata": {},
   "source": [
    "- 1-3 slides about new AI-based Data Augmentation - How to use LLMs for sythetic data Generation\n",
    "- Discuss several types: paraphrasing, re-writing (in a style), error correction, data generation"
   ]
  },
  {
   "cell_type": "markdown",
   "id": "5226a9c5-be33-4dad-8151-89f802a53019",
   "metadata": {},
   "source": [
    "### Integrating Augmentation Techniques into the Project\n",
    "\n",
    "Now that we have learned various data augmentation techniques, it's time to apply them to our Wikipedia dataset. We will augment the data and use it to improve our final projec."
   ]
  },
  {
   "cell_type": "markdown",
   "id": "cc1feec3-22b0-478c-b8d2-5473ae4bfa85",
   "metadata": {},
   "source": [
    "#### Here each LLM-based should be inserted into the Pipeline (with Georgian LLM)\n",
    "- Expand some Wikipedia articles\n",
    "- Correct some formats\n",
    "- Paraphrase\n",
    "- Generate Completely new data points (articles that are not in KA wikipedia)"
   ]
  }
 ],
 "metadata": {
  "kernelspec": {
   "display_name": "Python 3 (ipykernel)",
   "language": "python",
   "name": "python3"
  },
  "language_info": {
   "codemirror_mode": {
    "name": "ipython",
    "version": 3
   },
   "file_extension": ".py",
   "mimetype": "text/x-python",
   "name": "python",
   "nbconvert_exporter": "python",
   "pygments_lexer": "ipython3",
   "version": "3.11.5"
  }
 },
 "nbformat": 4,
 "nbformat_minor": 5
}
