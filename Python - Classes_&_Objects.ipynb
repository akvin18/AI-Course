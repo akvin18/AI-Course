{
  "nbformat": 4,
  "nbformat_minor": 0,
  "metadata": {
    "colab": {
      "provenance": []
    },
    "kernelspec": {
      "name": "python3",
      "display_name": "Python 3"
    },
    "language_info": {
      "name": "python"
    }
  },
  "cells": [
    {
      "cell_type": "code",
      "source": [
        "class Bot:\n",
        "  def __init__(self, name, age, purpose):\n",
        "    #Attributes\n",
        "    self.name = name\n",
        "    self.age = age\n",
        "    self.purpose = purpose\n",
        "\n",
        "  #Method:\n",
        "  def greeting(self):\n",
        "    print(f\"Hi, my name is {self.name} and my purpose is to {self.purpose}\")"
      ],
      "metadata": {
        "id": "tVlzc13uv1jE"
      },
      "execution_count": null,
      "outputs": []
    },
    {
      "cell_type": "code",
      "source": [
        "bot1 = Bot(\"Vasiko\", 25, \"answer customer's questions\")"
      ],
      "metadata": {
        "id": "FycAnUC_xYgP"
      },
      "execution_count": null,
      "outputs": []
    },
    {
      "cell_type": "code",
      "source": [
        "bot1.name"
      ],
      "metadata": {
        "colab": {
          "base_uri": "https://localhost:8080/",
          "height": 35
        },
        "id": "t36AGKjOxs9Q",
        "outputId": "fef09e4c-109e-4642-a5bc-3c419df52f30"
      },
      "execution_count": null,
      "outputs": [
        {
          "output_type": "execute_result",
          "data": {
            "text/plain": [
              "'Vasiko'"
            ],
            "application/vnd.google.colaboratory.intrinsic+json": {
              "type": "string"
            }
          },
          "metadata": {},
          "execution_count": 13
        }
      ]
    },
    {
      "cell_type": "code",
      "source": [
        "bot1.purpose"
      ],
      "metadata": {
        "colab": {
          "base_uri": "https://localhost:8080/",
          "height": 35
        },
        "id": "6NTSzueHxyjT",
        "outputId": "5b000c90-62ae-46c3-e1e7-5aac7b66b7b2"
      },
      "execution_count": null,
      "outputs": [
        {
          "output_type": "execute_result",
          "data": {
            "text/plain": [
              "\"answer customer's questions\""
            ],
            "application/vnd.google.colaboratory.intrinsic+json": {
              "type": "string"
            }
          },
          "metadata": {},
          "execution_count": 14
        }
      ]
    },
    {
      "cell_type": "code",
      "source": [
        "bot1.age"
      ],
      "metadata": {
        "colab": {
          "base_uri": "https://localhost:8080/"
        },
        "id": "TvS2lg1Dx0JK",
        "outputId": "cdb68086-48eb-4aed-a919-9893917fa9fe"
      },
      "execution_count": null,
      "outputs": [
        {
          "output_type": "execute_result",
          "data": {
            "text/plain": [
              "25"
            ]
          },
          "metadata": {},
          "execution_count": 15
        }
      ]
    },
    {
      "cell_type": "code",
      "source": [
        "bot1.greeting()"
      ],
      "metadata": {
        "colab": {
          "base_uri": "https://localhost:8080/"
        },
        "id": "92wFiKNMx1hr",
        "outputId": "3ba35a89-6cfa-4a04-f54b-b334eb1f72fe"
      },
      "execution_count": null,
      "outputs": [
        {
          "output_type": "stream",
          "name": "stdout",
          "text": [
            "Hi, my name is Vasiko and my purpose is to answer customer's questions\n"
          ]
        }
      ]
    },
    {
      "cell_type": "code",
      "source": [
        "bot2 = Bot(\"Niniko\", 24, \"collect customer's feedback\")"
      ],
      "metadata": {
        "id": "cusOokMnx6r2"
      },
      "execution_count": null,
      "outputs": []
    },
    {
      "cell_type": "code",
      "source": [
        "bot2.name"
      ],
      "metadata": {
        "id": "gBcQcsZdx_U0",
        "outputId": "d8b8b309-b31d-4967-d1e1-5bd314da136c",
        "colab": {
          "base_uri": "https://localhost:8080/",
          "height": 35
        }
      },
      "execution_count": null,
      "outputs": [
        {
          "output_type": "execute_result",
          "data": {
            "text/plain": [
              "'Niniko'"
            ],
            "application/vnd.google.colaboratory.intrinsic+json": {
              "type": "string"
            }
          },
          "metadata": {},
          "execution_count": 18
        }
      ]
    },
    {
      "cell_type": "code",
      "source": [
        "bot2.greeting()"
      ],
      "metadata": {
        "id": "7zpI_DhuyBET",
        "outputId": "33cc8cba-2a12-4d17-a746-6c3e6636aee9",
        "colab": {
          "base_uri": "https://localhost:8080/"
        }
      },
      "execution_count": null,
      "outputs": [
        {
          "output_type": "stream",
          "name": "stdout",
          "text": [
            "Hi, my name is Niniko and my purpose is to collect customer's feedback\n"
          ]
        }
      ]
    }
  ]
}