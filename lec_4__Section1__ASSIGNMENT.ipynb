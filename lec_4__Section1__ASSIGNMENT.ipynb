{
 "cells": [
  {
   "cell_type": "markdown",
   "id": "7c4e4764",
   "metadata": {},
   "source": [
    "### Section 1 - Final Assignment: Mini Project — Student Records System\n",
    "\n",
    "Build a Python-based system to manage student records. Follow the steps below to complete the project. Each step should be implemented in code in a separate code cell.\n",
    "\n",
    "---\n",
    "\n",
    "**Step 1: Define a `Student` class**  \n",
    "The class should include:  \n",
    "- `name` (string)  \n",
    "- `age` (integer)  \n",
    "- `grades` (list of integers)  \n",
    "- `add_grade(self, grade)` — adds a grade to the list  \n",
    "- `get_average(self)` — returns the average of grades  \n",
    "- `is_passing(self)` — returns `True` if average grade is ≥ 60, else `False`\n",
    "\n",
    "---\n",
    "\n",
    "**Step 2: Write a function `create_student(name, age)`**  \n",
    "This function should return a new `Student` object.\n",
    "\n",
    "---\n",
    "\n",
    "**Step 3: Create a dictionary called `students`**  \n",
    "- Keys should be student names (strings)  \n",
    "- Values should be `Student` objects created with your function  \n",
    "- Add at least two students\n",
    "\n",
    "---\n",
    "\n",
    "**Step 4: Add grades to each student**  \n",
    "- Use the `add_grade()` method  \n",
    "- Add at least 3 grades per student\n",
    "\n",
    "---\n",
    "\n",
    "**Step 5: Print summary for each student**  \n",
    "- Print the name, average grade, and whether the student is passing  \n",
    "- Example output:  \n",
    "`Alice → Avg: 76.0 → Passing: True`\n",
    "\n",
    "---\n",
    "\n",
    "**Bonus Step (Optional):**  \n",
    "- Allow the user to input student names and grades interactively using `input()`\n"
   ]
  }
 ],
 "metadata": {
  "language_info": {
   "name": "python"
  }
 },
 "nbformat": 4,
 "nbformat_minor": 5
}
