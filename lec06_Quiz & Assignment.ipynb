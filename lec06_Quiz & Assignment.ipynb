{
 "cells": [
  {
   "cell_type": "markdown",
   "metadata": {},
   "source": [
    "# Quiz: Linear Functions"
   ]
  },
  {
   "cell_type": "markdown",
   "metadata": {},
   "source": [
    "### Multiple Choice Questions\n",
    "\n",
    "1. What is the general form of a linear function?  \n",
    "a) y = ax^2 + bx + c  \n",
    "b) y = a/x  \n",
    "c) y = mx + b  \n",
    "d) y = log(x)\n",
    "\n",
    "2. In the equation y = 2x + 3, what is the slope?  \n",
    "a) 3  \n",
    "b) 2  \n",
    "c) x  \n",
    "d) y\n",
    "\n",
    "3. What does the slope of a linear function represent?  \n",
    "a) Where the graph crosses the y-axis  \n",
    "b) The steepness or rate of change  \n",
    "c) The minimum value  \n",
    "d) The maximum x-value\n",
    "\n",
    "4. What is the y-intercept in the equation y = -4x + 7?  \n",
    "a) -4  \n",
    "b) 7  \n",
    "c) x  \n",
    "d) -7\n",
    "\n",
    "5. Which of the following equations is **not** linear?  \n",
    "a) y = 5x - 1  \n",
    "b) y = 2x  \n",
    "c) y = x^2 + 1  \n",
    "d) y = -x + 0\n"
   ]
  },
  {
   "cell_type": "markdown",
   "metadata": {},
   "source": [
    "### Open-ended Questions\n",
    "\n",
    "1. Describe in your own words what the slope and y-intercept tell us about a linear function.  \n",
    "2. Can a linear function have a slope of 0? What would its graph look like?\n"
   ]
  },
  {
   "cell_type": "markdown",
   "metadata": {},
   "source": [
    "# Assignment: Exploring Linear Functions"
   ]
  },
  {
   "cell_type": "markdown",
   "metadata": {},
   "source": [
    "### Task 1: Plotting a Linear Function\n",
    "\n",
    "- Define a function `f(x) = 2x + 3`.\n",
    "- Use `matplotlib` to plot this function for x values from -10 to 10.\n",
    "- Label the x- and y-axes and add a title.\n"
   ]
  },
  {
   "cell_type": "code",
   "execution_count": null,
   "metadata": {},
   "outputs": [],
   "source": [
    "# Your code here\n",
    "import matplotlib.pyplot as plt\n",
    "import numpy as np\n",
    "\n",
    "x = np.linspace(-10, 10, 100)\n",
    "y = 2 * x + 3\n",
    "\n",
    "plt.plot(x, y)\n",
    "plt.title(\"Linear Function: y = 2x + 3\")\n",
    "plt.xlabel(\"x\")\n",
    "plt.ylabel(\"y\")\n",
    "plt.grid(True)\n",
    "plt.show()"
   ]
  },
  {
   "cell_type": "markdown",
   "metadata": {},
   "source": [
    "### Task 2: Custom Linear Function\n",
    "\n",
    "- Ask the user (or define manually) values for slope (m) and intercept (b).\n",
    "- Plot the function `y = mx + b`.\n",
    "- Print the slope and intercept on the graph.\n"
   ]
  },
  {
   "cell_type": "code",
   "execution_count": null,
   "metadata": {},
   "outputs": [],
   "source": [
    "# Your code here\n",
    "m = 1  # change this to experiment\n",
    "b = 0  # change this too\n",
    "\n",
    "y = m * x + b\n",
    "\n",
    "plt.plot(x, y)\n",
    "plt.title(f\"Linear Function: y = {m}x + {b}\")\n",
    "plt.xlabel(\"x\")\n",
    "plt.ylabel(\"y\")\n",
    "plt.grid(True)\n",
    "plt.show()"
   ]
  }
 ],
 "metadata": {
  "kernelspec": {
   "display_name": "Python 3",
   "language": "python",
   "name": "python3"
  },
  "language_info": {
   "name": "python",
   "version": "3.x"
  }
 },
 "nbformat": 4,
 "nbformat_minor": 5
}
