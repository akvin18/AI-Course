{
 "cells": [
  {
   "cell_type": "markdown",
   "metadata": {},
   "source": [
    "# Quiz: "
   ]
  },
  {
   "cell_type": "markdown",
   "metadata": {},
   "source": [
    "### Multiple Choice Questions\n",
    "\n",
    "1. What is the probability of getting a 3 when rolling a fair 6-sided die?  \n",
    "a) 1/2  \n",
    "b) 1/3  \n",
    "c) 1/6  \n",
    "d) 3/6\n",
    "\n",
    "2. Which of the following is NOT a valid probability value?  \n",
    "a) 0.2  \n",
    "b) 1.0  \n",
    "c) 0.75  \n",
    "d) 1.5\n",
    "\n",
    "3. What does experimental probability rely on?  \n",
    "a) Theoretical outcomes  \n",
    "b) Assumptions  \n",
    "c) Actual trials or experiments  \n",
    "d) Mathematical formulas only\n",
    "\n",
    "4. If a coin is flipped 100 times and lands on heads 55 times, what is the experimental probability of heads?  \n",
    "a) 0.45  \n",
    "b) 0.5  \n",
    "c) 0.55  \n",
    "d) 55\n",
    "\n",
    "5. What is the difference between theoretical and experimental probability?  \n",
    "a) One is random and one is fixed  \n",
    "b) Theoretical is based on actual trials, experimental is on assumptions  \n",
    "c) Theoretical is based on expected outcomes; experimental is based on collected data  \n",
    "d) No difference\n"
   ]
  }
 ],
 "metadata": {
  "kernelspec": {
   "display_name": "Python 3",
   "language": "python",
   "name": "python3"
  },
  "language_info": {
   "name": "python",
   "version": "3.x"
  }
 },
 "nbformat": 4,
 "nbformat_minor": 5
}
