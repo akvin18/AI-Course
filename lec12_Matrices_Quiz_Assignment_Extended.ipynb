{
 "cells": [
  {
   "cell_type": "markdown",
   "metadata": {},
   "source": [
    "# Quiz: Matrices – Basic Operations and Factorization"
   ]
  },
  {
   "cell_type": "markdown",
   "metadata": {},
   "source": [
    "### Multiple Choice Questions\n",
    "\n",
    "1. What is required for two matrices A and B to be added together?  \n",
    "a) Same number of rows  \n",
    "b) Same number of columns  \n",
    "c) Same shape (rows and columns)  \n",
    "d) A must be square\n",
    "\n",
    "2. What is the result of multiplying a 2x3 matrix with a 3x2 matrix?  \n",
    "a) 2x2  \n",
    "b) 3x3  \n",
    "c) 3x2  \n",
    "d) 2x3\n",
    "\n",
    "3. Which of the following is **not** a valid matrix operation?  \n",
    "a) Matrix multiplication  \n",
    "b) Scalar multiplication  \n",
    "c) Matrix exponentiation (element-wise)  \n",
    "d) Matrix addition\n",
    "\n",
    "4. What is the identity matrix?  \n",
    "a) A matrix with all elements equal to 1  \n",
    "b) A matrix with zeros on the diagonal  \n",
    "c) A square matrix with 1s on the diagonal and 0s elsewhere  \n",
    "d) A diagonal matrix with 2s\n",
    "\n",
    "5. What is LU decomposition used for?  \n",
    "a) Reducing the size of a matrix  \n",
    "b) Approximating eigenvalues  \n",
    "c) Solving systems of linear equations  \n",
    "d) Plotting a matrix\n"
   ]
  },
  {
   "cell_type": "markdown",
   "metadata": {},
   "source": [
    "### Open-ended Questions\n",
    "\n",
    "1. What is matrix multiplication, and how is it different from element-wise multiplication?  \n",
    "2. What is the purpose of LU or QR decomposition in linear algebra?\n"
   ]
  },
  {
   "cell_type": "markdown",
   "metadata": {},
   "source": [
    "# Assignment: Matrix Operations and Factorization"
   ]
  },
  {
   "cell_type": "markdown",
   "metadata": {},
   "source": [
    "### Task 1: Basic Matrix Operations\n",
    "\n",
    "- Create two 2x2 matrices A and B using NumPy.\n",
    "- Compute:\n",
    "  - A + B\n",
    "  - A - B\n",
    "  - A × B (matrix multiplication)\n",
    "  - A * B (element-wise multiplication)\n",
    "  - A transposed\n"
   ]
  },
  {
   "cell_type": "code",
   "execution_count": null,
   "metadata": {},
   "outputs": [],
   "source": [
    "# Your code here\n",
    "import numpy as np\n",
    "\n",
    "A = np.array([[1, 2], [3, 4]])\n",
    "B = np.array([[5, 6], [7, 8]])\n",
    "\n",
    "print(\"A + B =\\n\", A + B)\n",
    "print(\"A - B =\\n\", A - B)\n",
    "print(\"A @ B =\\n\", A @ B)\n",
    "print(\"A * B (element-wise) =\\n\", A * B)\n",
    "print(\"A Transposed =\\n\", A.T)"
   ]
  },
  {
   "cell_type": "markdown",
   "metadata": {},
   "source": [
    "### Task 2: LU Decomposition\n",
    "\n",
    "- Use SciPy or NumPy to perform LU decomposition on matrix A:\n",
    "```python\n",
    "A = [[4, 3],\n",
    "     [6, 3]]\n",
    "```\n",
    "- Print L and U matrices.\n"
   ]
  },
  {
   "cell_type": "code",
   "execution_count": null,
   "metadata": {},
   "outputs": [],
   "source": [
    "# Your code here\n",
    "from scipy.linalg import lu\n",
    "\n",
    "A = np.array([[4, 3], [6, 3]])\n",
    "P, L, U = lu(A)\n",
    "\n",
    "print(\"L =\\n\", L)\n",
    "print(\"U =\\n\", U)"
   ]
  },
  {
   "cell_type": "markdown",
   "metadata": {},
   "source": [
    "### Task 3: Determinant and Inverse (if applicable)\n",
    "\n",
    "- Calculate the determinant of matrix A.\n",
    "- Check if A is invertible (determinant ≠ 0).\n",
    "- If it is, compute the inverse of A."
   ]
  },
  {
   "cell_type": "code",
   "execution_count": null,
   "metadata": {},
   "outputs": [],
   "source": [
    "# Your code here\n",
    "from numpy.linalg import det, inv\n",
    "\n",
    "det_A = det(A)\n",
    "print(\"Determinant of A:\", det_A)\n",
    "\n",
    "if det_A != 0:\n",
    "    A_inv = inv(A)\n",
    "    print(\"Inverse of A =\\n\", A_inv)\n",
    "else:\n",
    "    print(\"Matrix A is not invertible.\")"
   ]
  },
  {
   "cell_type": "markdown",
   "metadata": {},
   "source": [
    "### Task 4: Identity Check\n",
    "\n",
    "- Verify that A multiplied by its inverse gives the identity matrix (if A is invertible)."
   ]
  },
  {
   "cell_type": "code",
   "execution_count": null,
   "metadata": {},
   "outputs": [],
   "source": [
    "# Your code here\n",
    "if det_A != 0:\n",
    "    identity_check = A @ A_inv\n",
    "    print(\"A × A_inv =\\n\", identity_check)"
   ]
  },
  {
   "cell_type": "markdown",
   "metadata": {},
   "source": [
    "### Task 5: Matrix Powers\n",
    "\n",
    "- Compute A squared (A²) and A cubed (A³) using matrix multiplication."
   ]
  },
  {
   "cell_type": "code",
   "execution_count": null,
   "metadata": {},
   "outputs": [],
   "source": [
    "# Your code here\n",
    "print(\"A² =\\n\", A @ A)\n",
    "print(\"A³ =\\n\", A @ A @ A)"
   ]
  }
 ],
 "metadata": {
  "kernelspec": {
   "display_name": "Python 3",
   "language": "python",
   "name": "python3"
  },
  "language_info": {
   "name": "python",
   "version": "3.x"
  }
 },
 "nbformat": 4,
 "nbformat_minor": 5
}
