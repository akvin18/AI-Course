{
 "cells": [
  {
   "cell_type": "markdown",
   "metadata": {},
   "source": [
    "# Quiz: Probability – Random Variables"
   ]
  },
  {
   "cell_type": "markdown",
   "metadata": {},
   "source": [
    "### Multiple Choice Questions\n",
    "\n",
    "1. What is a random variable?  \n",
    "a) A variable with any value  \n",
    "b) A variable whose value is determined by the outcome of a random experiment  \n",
    "c) A fixed number  \n",
    "d) A type of error\n",
    "\n",
    "2. Which of the following is a discrete random variable?  \n",
    "a) Height of people  \n",
    "b) Time to run a mile  \n",
    "c) Number of heads in 10 coin flips  \n",
    "d) Temperature\n",
    "\n",
    "3. What is the sum of probabilities for all possible values of a discrete random variable?  \n",
    "a) Depends on the variable  \n",
    "b) Between 0 and 1  \n",
    "c) Always 1  \n",
    "d) Can exceed 1\n",
    "\n",
    "4. What is the expected value of a fair 6-sided die roll?  \n",
    "a) 3  \n",
    "b) 3.5  \n",
    "c) 6  \n",
    "d) 7\n",
    "\n",
    "5. If X is a random variable with outcomes {1, 2, 3} and P(X=1)=0.2, P(X=2)=0.5, what must be P(X=3)?  \n",
    "a) 0.2  \n",
    "b) 0.3  \n",
    "c) 0.5  \n",
    "d) 1\n"
   ]
  },
  {
   "cell_type": "markdown",
   "metadata": {},
   "source": [
    "### Open-ended Questions\n",
    "\n",
    "1. Describe the difference between discrete and continuous random variables.\n",
    "2. What does the expected value of a random variable tell us?\n"
   ]
  },
  {
   "cell_type": "markdown",
   "metadata": {},
   "source": [
    "# Assignment: Simulating and Analyzing a Random Variable"
   ]
  },
  {
   "cell_type": "markdown",
   "metadata": {},
   "source": [
    "### Task 1: Simulating a Discrete Random Variable\n",
    "\n",
    "- Simulate rolling a 6-sided die 1,000 times.\n",
    "- Count how many times each number appears.\n",
    "- Plot the relative frequency of each outcome.\n",
    "- Compare it with the theoretical probability (1/6).\n"
   ]
  },
  {
   "cell_type": "code",
   "execution_count": null,
   "metadata": {},
   "outputs": [],
   "source": [
    "# Your code here\n",
    "import random\n",
    "from collections import Counter\n",
    "import matplotlib.pyplot as plt\n",
    "\n",
    "rolls = [random.randint(1, 6) for _ in range(1000)]\n",
    "counts = Counter(rolls)\n",
    "\n",
    "# Plotting frequencies\n",
    "plt.bar(counts.keys(), [v/1000 for v in counts.values()])\n",
    "plt.xlabel(\"Outcome\")\n",
    "plt.ylabel(\"Relative Frequency\")\n",
    "plt.title(\"Die Roll Simulation\")\n",
    "plt.show()"
   ]
  },
  {
   "cell_type": "markdown",
   "metadata": {},
   "source": [
    "### Task 2: Expected Value Calculation\n",
    "\n",
    "- Use the simulated data from Task 1 to estimate the expected value of a die roll.\n",
    "- Compare it with the theoretical expected value (3.5).\n"
   ]
  },
  {
   "cell_type": "code",
   "execution_count": null,
   "metadata": {},
   "outputs": [],
   "source": [
    "# Your code here\n",
    "expected_value = sum([outcome * freq/1000 for outcome, freq in counts.items()])\n",
    "print(\"Simulated Expected Value:\", expected_value)\n",
    "print(\"Theoretical Expected Value: 3.5\")"
   ]
  }
 ],
 "metadata": {
  "kernelspec": {
   "display_name": "Python 3",
   "language": "python",
   "name": "python3"
  },
  "language_info": {
   "name": "python",
   "version": "3.x"
  }
 },
 "nbformat": 4,
 "nbformat_minor": 5
}
