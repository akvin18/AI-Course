{
 "cells": [
  {
   "cell_type": "markdown",
   "metadata": {},
   "source": [
    "# Quiz: Slope of a Line"
   ]
  },
  {
   "cell_type": "markdown",
   "metadata": {},
   "source": [
    "### Multiple Choice Questions\n",
    "\n",
    "1. What does the slope of a line represent?  \n",
    "a) The y-intercept  \n",
    "b) The steepness of the line  \n",
    "c) The x-value  \n",
    "d) The height of the graph\n",
    "\n",
    "2. What is the slope of the line passing through the points (2, 3) and (4, 7)?  \n",
    "a) 2  \n",
    "b) 3  \n",
    "c) 1  \n",
    "d) 4\n",
    "\n",
    "3. Which equation correctly represents the slope formula?  \n",
    "a) (x2 - x1) / (y2 - y1)  \n",
    "b) (y1 - y2) / (x2 - x1)  \n",
    "c) (y2 - y1) / (x2 - x1)  \n",
    "d) (x1 + y1) / 2\n",
    "\n",
    "4. If a line has a slope of 0, what does the graph look like?  \n",
    "a) Vertical  \n",
    "b) Diagonal  \n",
    "c) Curved  \n",
    "d) Horizontal\n",
    "\n",
    "5. What is the slope of a vertical line?  \n",
    "a) 0  \n",
    "b) 1  \n",
    "c) Undefined  \n",
    "d) Infinity\n"
   ]
  },
  {
   "cell_type": "markdown",
   "metadata": {},
   "source": [
    "### Open-ended Questions\n",
    "\n",
    "1. Explain in your own words what a positive and negative slope looks like on a graph.  \n",
    "2. Why is the slope of a vertical line undefined?\n"
   ]
  },
  {
   "cell_type": "markdown",
   "metadata": {},
   "source": [
    "# Assignment: Calculating and Visualizing Slope"
   ]
  },
  {
   "cell_type": "markdown",
   "metadata": {},
   "source": [
    "### Task 1: Calculate the Slope\n",
    "\n",
    "- Write a function that takes two points (x1, y1) and (x2, y2) and returns the slope.\n",
    "- Test it on the points (1, 2) and (4, 6), and print the result.\n"
   ]
  },
  {
   "cell_type": "code",
   "execution_count": null,
   "metadata": {},
   "outputs": [],
   "source": [
    "# Your code here\n",
    "def slope(x1, y1, x2, y2):\n",
    "    return (y2 - y1) / (x2 - x1)\n",
    "\n",
    "print(slope(1, 2, 4, 6))"
   ]
  },
  {
   "cell_type": "markdown",
   "metadata": {},
   "source": [
    "### Task 2: Plot Two Points and the Line\n",
    "\n",
    "- Use matplotlib to plot the points (1, 2) and (4, 6).\n",
    "- Draw the line connecting them.\n",
    "- Display the slope value on the plot.\n"
   ]
  },
  {
   "cell_type": "code",
   "execution_count": null,
   "metadata": {},
   "outputs": [],
   "source": [
    "# Your code here\n",
    "import matplotlib.pyplot as plt\n",
    "\n",
    "x_values = [1, 4]\n",
    "y_values = [2, 6]\n",
    "\n",
    "plt.plot(x_values, y_values, marker='o')\n",
    "plt.title(\"Line through (1,2) and (4,6)\")\n",
    "plt.text(2.5, 4, \"Slope: 1.33\")\n",
    "plt.grid(True)\n",
    "plt.show()"
   ]
  }
 ],
 "metadata": {
  "kernelspec": {
   "display_name": "Python 3",
   "language": "python",
   "name": "python3"
  },
  "language_info": {
   "name": "python",
   "version": "3.x"
  }
 },
 "nbformat": 4,
 "nbformat_minor": 5
}
