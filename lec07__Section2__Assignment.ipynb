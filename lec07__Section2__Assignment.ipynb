{
 "cells": [
  {
   "cell_type": "markdown",
   "id": "6c86bba2",
   "metadata": {},
   "source": [
    "### Section 2 - Final Assignment: Probability & Linear Functions\n",
    "\n",
    "You are helping a student analytics team model simple math concepts in Python. Complete the following steps in code, with explanations where asked.\n",
    "\n",
    "---\n",
    "\n",
    "**Step 1: Create a basic probability calculator**  \n",
    "Write a function `calculate_probability(successful_outcomes, total_outcomes)` that returns the probability of an event happening.  \n",
    "- Example: If there are 2 red balls in a bag of 5 total balls, the probability of drawing red is 0.4.  \n",
    "- Test your function with at least 2 examples.\n",
    "\n",
    "---\n",
    "\n",
    "**Step 2: Simulate a random variable using `random.choice()`**  \n",
    "Create a list `dice = [1, 2, 3, 4, 5, 6]` and simulate rolling a fair die 10 times using a loop.  \n",
    "- Store the outcomes in a list and print them.  \n",
    "- Count how many times you roll a 6.\n",
    "\n",
    "---\n",
    "\n",
    "**Step 3: Define a linear function**  \n",
    "Write a function `f(x) = 2x + 3` that returns the result for any input x.  \n",
    "- Use this function to calculate f(0), f(5), and f(10).  \n",
    "- Print the results in a readable format.\n",
    "\n",
    "---\n",
    "\n",
    "**Step 4: Write a function to compute slope between two points**  \n",
    "Define a function `slope(x1, y1, x2, y2)` that returns the slope of the line between the two points.  \n",
    "- Use the formula: slope = (y2 - y1) / (x2 - x1)  \n",
    "- Use it to calculate the slope between:  \n",
    "  - (1, 2) and (3, 6)  \n",
    "  - (2, 4) and (5, 10)\n",
    "\n",
    "---\n",
    "\n",
    "**Step 5: Visualize a linear function (Optional if you know matplotlib)**  \n",
    "If you have matplotlib installed, plot the graph of the function f(x) = 2x + 3 for x in range(-5, 6).  \n",
    "- Label the axes  \n",
    "- Show the line clearly using `plt.plot()`\n",
    "\n",
    "---\n",
    "\n",
    "**Bonus Step (Optional):**  \n",
    "Write a short explanation in markdown (not code) of what the slope of a function tells us in real-life examples, such as pricing, speed, or change over time.\n"
   ]
  }
 ],
 "metadata": {
  "language_info": {
   "name": "python"
  }
 },
 "nbformat": 4,
 "nbformat_minor": 5
}
