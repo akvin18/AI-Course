{
 "cells": [
  {
   "cell_type": "markdown",
   "metadata": {},
   "source": [
    "# Quiz: Derivatives and Multivariable Functions"
   ]
  },
  {
   "cell_type": "markdown",
   "metadata": {},
   "source": [
    "### Multiple Choice Questions\n",
    "\n",
    "1. Which of the following is a **partial derivative** of a function f(x, y)?  \n",
    "a) df/dx  \n",
    "b) ∂f/∂x  \n",
    "c) d²f/dx²  \n",
    "d) ∇f\n",
    "\n",
    "2. What does the gradient of a function represent?  \n",
    "a) A single number  \n",
    "b) The rate of change of a function along a curve  \n",
    "c) A vector of partial derivatives  \n",
    "d) The tangent line to a curve\n",
    "\n",
    "3. If f(x, y) = x² + y², what is ∂f/∂x?  \n",
    "a) 2x  \n",
    "b) 2y  \n",
    "c) x  \n",
    "d) x² + y²\n",
    "\n",
    "4. What does it mean if the gradient vector is zero at a point?  \n",
    "a) The function is increasing  \n",
    "b) The function is undefined  \n",
    "c) A local maximum, minimum, or saddle point may exist  \n",
    "d) The function is linear\n",
    "\n",
    "5. What is the dimensionality of the gradient of a function f(x, y, z)?  \n",
    "a) 1  \n",
    "b) 2  \n",
    "c) 3  \n",
    "d) Depends on the output of f\n"
   ]
  },
  {
   "cell_type": "markdown",
   "metadata": {},
   "source": [
    "### Open-ended Questions\n",
    "\n",
    "1. What does it mean to take a partial derivative with respect to x?  \n",
    "2. Explain the geometric meaning of the gradient vector in 2D or 3D.\n"
   ]
  },
  {
   "cell_type": "markdown",
   "metadata": {},
   "source": [
    "# Assignment: Working with Multivariable Functions"
   ]
  },
  {
   "cell_type": "markdown",
   "metadata": {},
   "source": [
    "### Task 1: Compute Partial Derivatives\n",
    "\n",
    "Let f(x, y) = 3x²y + 2xy².\n",
    "\n",
    "- Compute ∂f/∂x  \n",
    "- Compute ∂f/∂y  \n",
    "- Evaluate both at the point (1, 2)\n"
   ]
  },
  {
   "cell_type": "code",
   "execution_count": null,
   "metadata": {},
   "outputs": [],
   "source": [
    "# Your code here\n",
    "from sympy import symbols, diff\n",
    "\n",
    "x, y = symbols('x y')\n",
    "f = 3*x**2*y + 2*x*y**2\n",
    "\n",
    "df_dx = diff(f, x)\n",
    "df_dy = diff(f, y)\n",
    "\n",
    "print(\"∂f/∂x:\", df_dx)\n",
    "print(\"∂f/∂y:\", df_dy)\n",
    "\n",
    "# Evaluate at (1, 2)\n",
    "print(\"At (1,2):\")\n",
    "print(\"∂f/∂x =\", df_dx.subs({x: 1, y: 2}))\n",
    "print(\"∂f/∂y =\", df_dy.subs({x: 1, y: 2}))"
   ]
  },
  {
   "cell_type": "markdown",
   "metadata": {},
   "source": [
    "### Task 2: Gradient Vector and 3D Surface\n",
    "\n",
    "- Let f(x, y) = x² + y².\n",
    "- Plot the surface using matplotlib's 3D plotting.\n",
    "- Calculate and display the gradient vector at (1, 1).\n"
   ]
  },
  {
   "cell_type": "code",
   "execution_count": null,
   "metadata": {},
   "outputs": [],
   "source": [
    "# Your code here\n",
    "import numpy as np\n",
    "import matplotlib.pyplot as plt\n",
    "from mpl_toolkits.mplot3d import Axes3D\n",
    "\n",
    "X = np.linspace(-2, 2, 30)\n",
    "Y = np.linspace(-2, 2, 30)\n",
    "X, Y = np.meshgrid(X, Y)\n",
    "Z = X**2 + Y**2\n",
    "\n",
    "fig = plt.figure()\n",
    "ax = fig.add_subplot(111, projection='3d')\n",
    "ax.plot_surface(X, Y, Z, cmap='viridis')\n",
    "\n",
    "# Gradient at (1, 1)\n",
    "x0, y0 = 1, 1\n",
    "fx = 2 * x0\n",
    "fy = 2 * y0\n",
    "ax.quiver(x0, y0, x0**2 + y0**2, fx, fy, 0, color='red')\n",
    "\n",
    "ax.set_title('f(x, y) = x² + y² and Gradient at (1,1)')\n",
    "plt.show()"
   ]
  }
 ],
 "metadata": {
  "kernelspec": {
   "display_name": "Python 3",
   "language": "python",
   "name": "python3"
  },
  "language_info": {
   "name": "python",
   "version": "3.x"
  }
 },
 "nbformat": 4,
 "nbformat_minor": 5
}
