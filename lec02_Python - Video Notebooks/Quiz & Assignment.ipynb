{
 "cells": [
  {
   "cell_type": "markdown",
   "metadata": {},
   "source": [
    "# Quiz: Python Lists\n",
    "\n",
    "### Multiple Choice Questions\n",
    "\n",
    "1. What is the result of the following code?\n",
    "```python\n",
    "my_list = [1, 2, 3]\n",
    "print(my_list[1])\n",
    "```\n",
    "a) 1  \n",
    "b) 2  \n",
    "c) 3  \n",
    "d) Error\n",
    "\n",
    "2. Which method is used to add an item to the end of a list?  \n",
    "a) add()  \n",
    "b) append()  \n",
    "c) insert()  \n",
    "d) extend()\n",
    "\n",
    "3. What will this code output?\n",
    "```python\n",
    "nums = [10, 20, 30]\n",
    "nums.insert(1, 15)\n",
    "print(nums)\n",
    "```\n",
    "a) [10, 15, 20, 30]  \n",
    "b) [15, 10, 20, 30]  \n",
    "c) [10, 20, 15, 30]  \n",
    "d) Error\n",
    "\n",
    "4. Which of these removes an item from a list by value?  \n",
    "a) pop()  \n",
    "b) remove()  \n",
    "c) delete()  \n",
    "d) discard()\n",
    "\n",
    "5. What does `my_list[-1]` return?  \n",
    "a) First item  \n",
    "b) Middle item  \n",
    "c) Last item  \n",
    "d) Error\n"
   ]
  },
  {
   "cell_type": "markdown",
   "metadata": {},
   "source": [
    "# Quiz: Python Loops\n",
    "\n",
    "### Multiple Choice Questions\n",
    "\n",
    "1. What does a `for` loop do in Python?  \n",
    "a) Repeats a block of code a fixed number of times  \n",
    "b) Runs only once  \n",
    "c) Runs code if condition is true  \n",
    "d) None of the above\n",
    "\n",
    "2. What will be the output?\n",
    "```python\n",
    "for i in range(3):\n",
    "    print(i)\n",
    "```\n",
    "a) 1 2 3  \n",
    "b) 0 1 2  \n",
    "c) 0 1 2 3  \n",
    "d) Error\n",
    "\n",
    "3. What does the `range(2, 5)` produce?  \n",
    "a) 2 to 5  \n",
    "b) 2, 3, 4  \n",
    "c) 3, 4, 5  \n",
    "d) 2, 3, 4, 5\n",
    "\n",
    "4. What kind of loop continues as long as a condition is true?  \n",
    "a) for  \n",
    "b) while  \n",
    "c) until  \n",
    "d) loop\n",
    "\n",
    "5. What keyword stops a loop early?  \n",
    "a) continue  \n",
    "b) pass  \n",
    "c) stop  \n",
    "d) break\n"
   ]
  },
  {
   "cell_type": "markdown",
   "metadata": {},
   "source": [
    "# Quiz: Python Dictionaries\n",
    "\n",
    "### Multiple Choice Questions\n",
    "\n",
    "1. What is a dictionary in Python?  \n",
    "a) A list with keys  \n",
    "b) A collection of key-value pairs  \n",
    "c) A data type for math  \n",
    "d) A loop function\n",
    "\n",
    "2. What will this code print?\n",
    "```python\n",
    "person = {\"name\": \"Anna\", \"age\": 22}\n",
    "print(person[\"age\"])\n",
    "```\n",
    "a) \"Anna\"  \n",
    "b) 22  \n",
    "c) \"age\"  \n",
    "d) Error\n",
    "\n",
    "3. How do you add a new key-value pair to a dictionary?  \n",
    "a) dict.add()  \n",
    "b) dict.append()  \n",
    "c) dict[\"key\"] = value  \n",
    "d) dict.insert()\n",
    "\n",
    "4. What happens if you try to access a missing key?  \n",
    "a) Returns None  \n",
    "b) Creates a key  \n",
    "c) Raises KeyError  \n",
    "d) Prints 'undefined'\n",
    "\n",
    "5. Which method returns all the keys?  \n",
    "a) .values()  \n",
    "b) .items()  \n",
    "c) .get()  \n",
    "d) .keys()\n"
   ]
  },
  {
   "cell_type": "markdown",
   "metadata": {},
   "source": [
    "# Assignment:\n"
   ]
  },
  {
   "cell_type": "markdown",
   "metadata": {},
   "source": [
    "### Task 1: Favorite Movies List\n",
    "- Create a list of 5 of your favorite movies.\n",
    "- Add another movie to the end.\n",
    "- Remove the second movie.\n",
    "- Use a loop to print each movie in the list.\n"
   ]
  },
  {
   "cell_type": "code",
   "execution_count": null,
   "metadata": {},
   "outputs": [],
   "source": [
    "# Your code here\n",
    "movies = []"
   ]
  },
  {
   "cell_type": "markdown",
   "metadata": {},
   "source": [
    "### Task 2: Multiples of 3\n",
    "- Use a for loop to create a list of numbers from 1 to 30 that are divisible by 3.\n",
    "- Print the list.\n"
   ]
  },
  {
   "cell_type": "code",
   "execution_count": null,
   "metadata": {},
   "outputs": [],
   "source": [
    "# Your code here\n",
    "multiples = []"
   ]
  },
  {
   "cell_type": "markdown",
   "metadata": {},
   "source": [
    "### Task 3: Student Dictionary\n",
    "- Create a dictionary for a student that contains: name, age, and list of 3 grades.\n",
    "- Calculate and print the average of the grades.\n"
   ]
  },
  {
   "cell_type": "code",
   "execution_count": null,
   "metadata": {},
   "outputs": [],
   "source": [
    "# Your code here\n",
    "student = {}"
   ]
  }
 ],
 "metadata": {
  "kernelspec": {
   "display_name": "Python 3",
   "language": "python",
   "name": "python3"
  },
  "language_info": {
   "name": "python",
   "version": "3.x"
  }
 },
 "nbformat": 4,
 "nbformat_minor": 5
}
