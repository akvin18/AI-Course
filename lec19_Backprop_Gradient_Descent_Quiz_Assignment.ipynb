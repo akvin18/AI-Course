{
 "cells": [
  {
   "cell_type": "markdown",
   "metadata": {},
   "source": [
    "# Analytical Quiz: Backpropagation & Gradient Descent"
   ]
  },
  {
   "cell_type": "markdown",
   "metadata": {},
   "source": [
    "### Questions\n",
    "\n",
    "1. In your own words, explain the goal of gradient descent. Why is it used in training neural networks?\n",
    "\n",
    "2. A model’s loss decreases very slowly during training. What could be the causes and how would you troubleshoot this?\n",
    "\n",
    "3. What is the role of the learning rate in gradient descent? Describe what might happen if it’s too small or too large.\n",
    "\n",
    "4. How does backpropagation use the chain rule from calculus? Why is this important?\n",
    "\n",
    "5. Suppose you are training a neural network and you notice the gradients are either vanishing or exploding. What are some ways to address this?\n"
   ]
  },
  {
   "cell_type": "markdown",
   "metadata": {},
   "source": [
    "# Assignment: Simulating Gradient Descent and Backpropagation"
   ]
  },
  {
   "cell_type": "markdown",
   "metadata": {},
   "source": [
    "### Task 1: Visualize Gradient Descent\n",
    "\n",
    "- Plot the function `f(x) = x² + 4` and simulate one-variable gradient descent.\n",
    "- Use a starting point like `x = 10`.\n",
    "- At each step, update `x = x - learning_rate * gradient`.\n",
    "- Visualize how the function value decreases over iterations.\n"
   ]
  },
  {
   "cell_type": "code",
   "execution_count": null,
   "metadata": {},
   "outputs": [],
   "source": [
    "# Your code here\n",
    "import numpy as np\n",
    "import matplotlib.pyplot as plt\n",
    "\n",
    "x = 10\n",
    "lr = 0.1\n",
    "history = []\n",
    "\n",
    "for _ in range(30):\n",
    "    grad = 2 * x  # derivative of f(x) = x² + 4\n",
    "    x = x - lr * grad\n",
    "    history.append((x, x**2 + 4))\n",
    "\n",
    "xs, ys = zip(*history)\n",
    "plt.plot(xs, ys, marker='o')\n",
    "plt.title(\"Gradient Descent on f(x) = x² + 4\")\n",
    "plt.xlabel(\"x\")\n",
    "plt.ylabel(\"f(x)\")\n",
    "plt.grid(True)\n",
    "plt.show()"
   ]
  }
 ],
 "metadata": {
  "kernelspec": {
   "display_name": "Python 3",
   "language": "python",
   "name": "python3"
  },
  "language_info": {
   "name": "python",
   "version": "3.x"
  }
 },
 "nbformat": 4,
 "nbformat_minor": 5
}
