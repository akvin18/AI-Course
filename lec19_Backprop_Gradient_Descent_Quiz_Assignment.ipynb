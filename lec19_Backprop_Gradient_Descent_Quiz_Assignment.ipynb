{
 "cells": [
  {
   "cell_type": "markdown",
   "id": "3a0c81a3",
   "metadata": {},
   "source": [
    "### Analytical Quiz: Gradient Descent & Backpropagation\n",
    "\n",
    "**1. The goal of gradient descent in training neural networks is to:**  \n",
    "- A) Randomly select data points for training  \n",
    "- B) Iteratively minimize the loss function by adjusting parameters  \n",
    "- C) Increase the complexity of the neural network  \n",
    "- D) Ensure equal distribution of data  \n",
    "\n",
    "**2. A model’s loss decreases very slowly during training. Possible reasons include:**  \n",
    "- A) Perfect dataset distribution  \n",
    "- B) Optimal learning rate and initialization  \n",
    "- C) Learning rate too small, poor weight initialization, or unsuitable optimizer choice  \n",
    "- D) Training set is too small  \n",
    "\n",
    "**3. The role of the learning rate in gradient descent is to:**  \n",
    "- A) Define the structure of the neural network  \n",
    "- B) Control the size of parameter updates during training  \n",
    "- C) Decide the batch size for training  \n",
    "- D) Prevent overfitting by dropping neurons randomly  \n",
    "\n",
    "**4. Backpropagation uses the chain rule from calculus to:**  \n",
    "- A) Randomly initialize neural network weights  \n",
    "- B) Calculate gradients efficiently by propagating errors backward through the layers  \n",
    "- C) Determine the optimal number of neurons in each layer  \n",
    "- D) Select the activation functions for each layer  \n",
    "\n",
    "**5. When gradients are either vanishing or exploding during neural network training, potential solutions include:**  \n",
    "- A) Ignoring these issues and continuing training  \n",
    "- B) Increasing the size of the training dataset only  \n",
    "- C) Applying gradient clipping, normalization techniques, or adjusting initialization methods  \n",
    "- D) Simplifying the problem by reducing dataset complexity  \n"
   ]
  },
  {
   "cell_type": "markdown",
   "metadata": {},
   "source": [
    "# Assignment: Simulating Gradient Descent and Backpropagation"
   ]
  },
  {
   "cell_type": "markdown",
   "metadata": {},
   "source": [
    "### Task 1: Visualize Gradient Descent\n",
    "\n",
    "- Plot the function `f(x) = x² + 4` and simulate one-variable gradient descent.\n",
    "- Use a starting point like `x = 10`.\n",
    "- At each step, update `x = x - learning_rate * gradient`.\n",
    "- Visualize how the function value decreases over iterations.\n"
   ]
  },
  {
   "cell_type": "code",
   "execution_count": null,
   "metadata": {},
   "outputs": [],
   "source": [
    "# Your code here\n",
    "import numpy as np\n",
    "import matplotlib.pyplot as plt\n",
    "\n",
    "x = 10\n",
    "lr = 0.1\n",
    "history = []\n",
    "\n",
    "for _ in range(30):\n",
    "    grad = 2 * x  # derivative of f(x) = x² + 4\n",
    "    x = x - lr * grad\n",
    "    history.append((x, x**2 + 4))\n",
    "\n",
    "xs, ys = zip(*history)\n",
    "plt.plot(xs, ys, marker='o')\n",
    "plt.title(\"Gradient Descent on f(x) = x² + 4\")\n",
    "plt.xlabel(\"x\")\n",
    "plt.ylabel(\"f(x)\")\n",
    "plt.grid(True)\n",
    "plt.show()"
   ]
  }
 ],
 "metadata": {
  "kernelspec": {
   "display_name": "Python 3",
   "language": "python",
   "name": "python3"
  },
  "language_info": {
   "name": "python",
   "version": "3.x"
  }
 },
 "nbformat": 4,
 "nbformat_minor": 5
}
