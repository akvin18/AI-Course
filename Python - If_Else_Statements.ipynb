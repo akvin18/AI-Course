{
  "nbformat": 4,
  "nbformat_minor": 0,
  "metadata": {
    "colab": {
      "provenance": []
    },
    "kernelspec": {
      "name": "python3",
      "display_name": "Python 3"
    },
    "language_info": {
      "name": "python"
    }
  },
  "cells": [
    {
      "cell_type": "code",
      "source": [
        "a = 5\n",
        "b = 4\n",
        "\n",
        "if a > b:\n",
        "  print(\"a მეტია b-ზე\")"
      ],
      "metadata": {
        "colab": {
          "base_uri": "https://localhost:8080/"
        },
        "id": "6Ati2FeyYUWE",
        "outputId": "d01611e8-3f17-4bcc-fa03-d8be4b866d43"
      },
      "execution_count": 66,
      "outputs": [
        {
          "output_type": "stream",
          "name": "stdout",
          "text": [
            "a მეტია b-ზე\n"
          ]
        }
      ]
    },
    {
      "cell_type": "code",
      "source": [
        "c = 8\n",
        "d = 8\n",
        "\n",
        "if c > d:\n",
        "  print(\"c > d\")\n",
        "elif c == d:\n",
        "  print(\"c = d\")\n",
        "else:\n",
        "  print(\"c < d\")"
      ],
      "metadata": {
        "colab": {
          "base_uri": "https://localhost:8080/"
        },
        "id": "i4xT1NYkY7Km",
        "outputId": "72f6ce20-9993-4e39-f291-18040a23e70d"
      },
      "execution_count": 77,
      "outputs": [
        {
          "output_type": "stream",
          "name": "stdout",
          "text": [
            "c = d\n"
          ]
        }
      ]
    },
    {
      "cell_type": "code",
      "source": [
        "if c > d:\n",
        "  print(\"c > d\")\n",
        "else:\n",
        "  if c == d:\n",
        "    print(\"c = d\")\n",
        "  else:\n",
        "    print(\"c < d\")"
      ],
      "metadata": {
        "colab": {
          "base_uri": "https://localhost:8080/"
        },
        "id": "xiovTA_QZxlt",
        "outputId": "00258a5a-ded0-4537-8d9c-36359de5bc0f"
      },
      "execution_count": 78,
      "outputs": [
        {
          "output_type": "stream",
          "name": "stdout",
          "text": [
            "c = d\n"
          ]
        }
      ]
    }
  ]
}