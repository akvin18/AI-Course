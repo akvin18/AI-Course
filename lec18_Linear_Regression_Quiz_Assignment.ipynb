{
 "cells": [
  {
   "cell_type": "markdown",
   "metadata": {},
   "source": [
    "# Analytical Quiz: Linear Regression"
   ]
  },
  {
   "cell_type": "markdown",
   "id": "bd716463",
   "metadata": {},
   "source": [
    "1. You apply a linear regression model and get a low R² score. Possible reasons include:\n",
    "\n",
    "A) The data is perfectly linear.\n",
    "\n",
    "B) Important features might be missing or irrelevant features are included.\n",
    "\n",
    "C) The model perfectly fits the data.\n",
    "\n",
    "D) The dataset size is very large.\n",
    "\n",
    "2. The trade-off between underfitting and overfitting in linear regression refers to:\n",
    "\n",
    "A) Underfitting occurs when the model is too simple; overfitting occurs when it's too complex.\n",
    "\n",
    "B) Underfitting is when the model perfectly fits the training data.\n",
    "\n",
    "C) Overfitting happens due to too few features; underfitting happens due to too many features.\n",
    "\n",
    "D) Both terms mean the same thing.\n",
    "\n",
    "3. A model has a very high R² value on training data but performs poorly on unseen data. This issue is:\n",
    "\n",
    "A) Underfitting\n",
    "\n",
    "B) Data leakage\n",
    "\n",
    "C) Overfitting\n",
    "\n",
    "D) High bias\n",
    "\n",
    "4. To determine whether a linear model is appropriate for your data, you would:\n",
    "\n",
    "A) Check only the R² value on training data.\n",
    "\n",
    "B) Visually inspect scatter plots and analyze residuals.\n",
    "\n",
    "C) Always assume linearity.\n",
    "\n",
    "D) Evaluate the size of the dataset only.\n",
    "\n",
    "5. Highly correlated features can affect your linear regression model by:\n",
    "\n",
    "A) Increasing model accuracy significantly.\n",
    "\n",
    "B) Making the model robust against outliers.\n",
    "\n",
    "C) Causing multicollinearity, affecting interpretability and stability.\n",
    "\n",
    "D) Reducing computational complexity."
   ]
  },
  {
   "cell_type": "markdown",
   "metadata": {},
   "source": [
    "# Assignment: Understanding and Applying Linear Regression"
   ]
  },
  {
   "cell_type": "markdown",
   "metadata": {},
   "source": [
    "### Task 1: Simulate and Visualize\n",
    "\n",
    "- Use NumPy to simulate a dataset of 100 data points where `y = 3x + noise`.\n",
    "- Use Matplotlib to plot the data.\n",
    "- Describe visually whether a linear model seems appropriate.\n"
   ]
  },
  {
   "cell_type": "code",
   "execution_count": null,
   "metadata": {},
   "outputs": [],
   "source": [
    "# Your code here\n",
    "import numpy as np\n",
    "import matplotlib.pyplot as plt\n",
    "\n",
    "np.random.seed(0)\n",
    "x = np.random.rand(100, 1) * 10\n",
    "noise = np.random.randn(100, 1)\n",
    "y = 3 * x + noise\n",
    "\n",
    "plt.scatter(x, y)\n",
    "plt.title(\"Simulated Linear Data\")\n",
    "plt.xlabel(\"x\")\n",
    "plt.ylabel(\"y\")\n",
    "plt.show()"
   ]
  }
 ],
 "metadata": {
  "kernelspec": {
   "display_name": "Python 3",
   "language": "python",
   "name": "python3"
  },
  "language_info": {
   "name": "python",
   "version": "3.x"
  }
 },
 "nbformat": 4,
 "nbformat_minor": 5
}
