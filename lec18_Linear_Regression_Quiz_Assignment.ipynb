{
 "cells": [
  {
   "cell_type": "markdown",
   "metadata": {},
   "source": [
    "# Analytical Quiz: Linear Regression"
   ]
  },
  {
   "cell_type": "markdown",
   "metadata": {},
   "source": [
    "### Questions\n",
    "\n",
    "1. You apply a linear regression model and get a low R² score. What could be some reasons behind this, and how would you investigate them?\n",
    "\n",
    "2. Explain the trade-off between underfitting and overfitting in the context of linear regression.\n",
    "\n",
    "3. Suppose a model gives a very high R² value on training data but performs poorly on unseen data. What might be going wrong?\n",
    "\n",
    "4. How would you determine whether a linear model is appropriate for your data?\n",
    "\n",
    "5. You're given a dataset with highly correlated features. How can this affect your linear regression model, and what would you do about it?\n"
   ]
  },
  {
   "cell_type": "markdown",
   "metadata": {},
   "source": [
    "# Assignment: Understanding and Applying Linear Regression"
   ]
  },
  {
   "cell_type": "markdown",
   "metadata": {},
   "source": [
    "### Task 1: Simulate and Visualize\n",
    "\n",
    "- Use NumPy to simulate a dataset of 100 data points where `y = 3x + noise`.\n",
    "- Use Matplotlib to plot the data.\n",
    "- Describe visually whether a linear model seems appropriate.\n"
   ]
  },
  {
   "cell_type": "code",
   "execution_count": null,
   "metadata": {},
   "outputs": [],
   "source": [
    "# Your code here\n",
    "import numpy as np\n",
    "import matplotlib.pyplot as plt\n",
    "\n",
    "np.random.seed(0)\n",
    "x = np.random.rand(100, 1) * 10\n",
    "noise = np.random.randn(100, 1)\n",
    "y = 3 * x + noise\n",
    "\n",
    "plt.scatter(x, y)\n",
    "plt.title(\"Simulated Linear Data\")\n",
    "plt.xlabel(\"x\")\n",
    "plt.ylabel(\"y\")\n",
    "plt.show()"
   ]
  }
 ],
 "metadata": {
  "kernelspec": {
   "display_name": "Python 3",
   "language": "python",
   "name": "python3"
  },
  "language_info": {
   "name": "python",
   "version": "3.x"
  }
 },
 "nbformat": 4,
 "nbformat_minor": 5
}
