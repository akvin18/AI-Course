{
 "cells": [
  {
   "cell_type": "markdown",
   "metadata": {},
   "source": [
    "# Quiz: NumPy & Pandas"
   ]
  },
  {
   "cell_type": "markdown",
   "metadata": {},
   "source": [
    "### Multiple Choice Questions\n",
    "\n",
    "1. What is the main advantage of using NumPy over regular Python lists?  \n",
    "a) It uses more memory  \n",
    "b) It is slower but more readable  \n",
    "c) It provides faster operations and broadcasting  \n",
    "d) It is only for images\n",
    "\n",
    "2. Which function is used to create a NumPy array of zeros?  \n",
    "a) `np.ones()`  \n",
    "b) `np.full()`  \n",
    "c) `np.zeros()`  \n",
    "d) `np.empty()`\n",
    "\n",
    "3. What does `df.head(3)` return in Pandas?  \n",
    "a) The last 3 rows  \n",
    "b) A summary  \n",
    "c) The first 3 rows  \n",
    "d) An error\n",
    "\n",
    "4. How do you select a column named 'age' from a DataFrame `df`?  \n",
    "a) `df.age()`  \n",
    "b) `df['age']`  \n",
    "c) `df.age[]`  \n",
    "d) `df->age`\n",
    "\n",
    "5. What does `df.isnull().sum()` help identify?  \n",
    "a) Duplicate rows  \n",
    "b) Missing values per column  \n",
    "c) Mean of the dataset  \n",
    "d) Datatypes\n"
   ]
  },
  {
   "cell_type": "markdown",
   "metadata": {},
   "source": [
    "# Quiz: Data Gathering"
   ]
  },
  {
   "cell_type": "markdown",
   "metadata": {},
   "source": [
    "### Multiple Choice Questions\n",
    "\n",
    "1. Which of the following is a method to gather data?  \n",
    "a) Web scraping  \n",
    "b) Manual input  \n",
    "c) APIs  \n",
    "d) All of the above\n",
    "\n",
    "2. Which library is commonly used for web scraping in Python?  \n",
    "a) Pandas  \n",
    "b) BeautifulSoup  \n",
    "c) Seaborn  \n",
    "d) Matplotlib\n",
    "\n",
    "3. What HTTP method is typically used to retrieve data from an API?  \n",
    "a) POST  \n",
    "b) PUT  \n",
    "c) GET  \n",
    "d) DELETE\n",
    "\n",
    "4. Which format is most common for API responses?  \n",
    "a) CSV  \n",
    "b) TXT  \n",
    "c) JSON  \n",
    "d) DOCX\n",
    "\n",
    "5. What does the `requests.get(url)` function return?  \n",
    "a) JSON object  \n",
    "b) HTML file  \n",
    "c) Response object  \n",
    "d) DataFrame\n"
   ]
  },
  {
   "cell_type": "markdown",
   "metadata": {},
   "source": [
    "# Quiz: Data Cleaning"
   ]
  },
  {
   "cell_type": "markdown",
   "metadata": {},
   "source": [
    "### Multiple Choice Questions\n",
    "\n",
    "1. What does `.dropna()` do in a DataFrame?  \n",
    "a) Replaces null values  \n",
    "b) Drops duplicates  \n",
    "c) Drops rows with null values  \n",
    "d) Drops the index\n",
    "\n",
    "2. What method is used to fill missing values with a fixed number?  \n",
    "a) `df.fillna(0)`  \n",
    "b) `df.replace()`  \n",
    "c) `df.dropna()`  \n",
    "d) `df.mean()`\n",
    "\n",
    "3. How do you detect duplicates in a DataFrame?  \n",
    "a) `df.duplicates()`  \n",
    "b) `df.is_duplicate()`  \n",
    "c) `df.duplicated()`  \n",
    "d) `df.checkdup()`\n",
    "\n",
    "4. What method resets the index of a DataFrame?  \n",
    "a) `df.reset_index()`  \n",
    "b) `df.clear_index()`  \n",
    "c) `df.reindex()`  \n",
    "d) `df.index_reset()`\n",
    "\n",
    "5. What is the role of `astype()` in Pandas?  \n",
    "a) Filling NaNs  \n",
    "b) Changing column values  \n",
    "c) Changing data types  \n",
    "d) Copying a column\n"
   ]
  },
  {
   "cell_type": "markdown",
   "metadata": {},
   "source": [
    "# Quiz: Data Augmentation"
   ]
  },
  {
   "cell_type": "markdown",
   "metadata": {},
   "source": [
    "### Multiple Choice Questions\n",
    "\n",
    "1. What is the goal of data augmentation?  \n",
    "a) Make the dataset smaller  \n",
    "b) Increase data variability  \n",
    "c) Delete rows with noise  \n",
    "d) Create summary statistics\n",
    "\n",
    "2. Which of the following is a text data augmentation technique?  \n",
    "a) Rotation  \n",
    "b) Synonym replacement  \n",
    "c) Flipping  \n",
    "d) Masking pixels\n",
    "\n",
    "3. What does `sklearn.utils.resample()` help with?  \n",
    "a) Encoding  \n",
    "b) Feature selection  \n",
    "c) Resampling datasets  \n",
    "d) One-hot encoding\n",
    "\n",
    "4. Which type of problem is augmentation most commonly used in?  \n",
    "a) Regression  \n",
    "b) Classification  \n",
    "c) Clustering  \n",
    "d) Visualization\n",
    "\n",
    "5. What does upsampling do?  \n",
    "a) Removes rows  \n",
    "b) Replaces nulls  \n",
    "c) Duplicates rows in the minority class  \n",
    "d) Changes column names\n"
   ]
  },
  {
   "cell_type": "markdown",
   "metadata": {},
   "source": [
    "# Final Assignment: End-to-End Data Processing"
   ]
  },
  {
   "cell_type": "markdown",
   "metadata": {},
   "source": [
    "### Objective\n",
    "\n",
    "Build a small pipeline that simulates a real-world data task using NumPy, Pandas, and data preparation techniques.\n",
    "\n",
    "### Tasks\n",
    "\n",
    "1. **Generate Data:**  \n",
    "   - Use NumPy to simulate a dataset of 1000 people with fields: `age`, `income`, `city`, and `purchase_status`.\n",
    "   - Add some missing values randomly.\n",
    "\n",
    "2. **Clean Data:**  \n",
    "   - Fill missing ages with the mean.\n",
    "   - Drop rows where `purchase_status` is missing.\n",
    "   - Convert `purchase_status` to binary: yes → 1, no → 0\n",
    "\n",
    "3. **Augment Data:**  \n",
    "   - Add a new feature: `age_group` based on age.\n",
    "   - Perform simple upsampling to balance `purchase_status`.\n",
    "\n",
    "4. **Output:**  \n",
    "   - Save the cleaned and augmented DataFrame as CSV.\n",
    "   - Print basic statistics (mean, value counts, etc.)\n"
   ]
  }
 ],
 "metadata": {
  "kernelspec": {
   "display_name": "Python 3",
   "language": "python",
   "name": "python3"
  },
  "language_info": {
   "name": "python",
   "version": "3.x"
  }
 },
 "nbformat": 4,
 "nbformat_minor": 5
}
