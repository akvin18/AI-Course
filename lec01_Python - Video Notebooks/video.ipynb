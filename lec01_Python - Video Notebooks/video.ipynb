{
 "cells": [
  {
   "cell_type": "markdown",
   "id": "6a446e66",
   "metadata": {},
   "source": [
    "### Variables\n",
    "\n",
    "\n",
    "<video controls width=\"600\">\n",
    "  <source src=\"Python Variables.mp4\" type=\"video/mp4\">\n",
    "</video>"
   ]
  }
 ],
 "metadata": {
  "language_info": {
   "name": "python"
  }
 },
 "nbformat": 4,
 "nbformat_minor": 5
}
