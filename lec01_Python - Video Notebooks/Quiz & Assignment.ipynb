{
 "cells": [
  {
   "cell_type": "markdown",
   "metadata": {},
   "source": [
    "# Python Variables – Quiz & Assignment"
   ]
  },
  {
   "cell_type": "markdown",
   "metadata": {},
   "source": [
    "#  Quiz: Python Variables\n",
    "Let's see how well you understand variables in Python!"
   ]
  },
  {
   "cell_type": "markdown",
   "metadata": {},
   "source": [
    "###  Multiple Choice Questions (Choose the correct answer):\n",
    "\n",
    "1. What will be the result of the following code?\n",
    "\n",
    "```python\n",
    "a = 5\n",
    "b = \"5\"\n",
    "print(a + int(b))\n",
    "```\n",
    "\n",
    "    a) \"55\"\n",
    "\n",
    "    b) 10\n",
    "\n",
    "    c) Error\n",
    "\n",
    "    d) 5\n",
    "\n",
    "\n",
    "2. Which of the following statements will throw an error?\n",
    "\n",
    "    a) `x = 10`\n",
    "\n",
    "    b) `name = \"John\"`\n",
    "\n",
    "    c) `1value = 5`\n",
    "\n",
    "    d) `is_valid = True`\n",
    "\n",
    "\n",
    "3. What happens if you try to access a variable that hasn’t been defined yet?\n",
    "\n",
    "    a) It returns None\n",
    "\n",
    "    b) It raises a NameError\n",
    "\n",
    "    c) It creates the variable with default value\n",
    "\n",
    "    d) It crashes your system\n",
    "\n",
    "\n",
    "4. What is the value of `x` after this code executes?\n",
    "\n",
    "```python\n",
    "x = 4\n",
    "x = x + 2\n",
    "x = x * 3\n",
    "```\n",
    "\n",
    "    a) 6\n",
    "\n",
    "    b) 12\n",
    "\n",
    "    c) 18\n",
    "\n",
    "    d) 15\n",
    "\n",
    "\n",
    "5. What is the correct way to swap values between two variables `a` and `b` in Python?\n",
    "\n",
    "    a) `a, b = b, a`\n",
    "\n",
    "    b) `a = b; b = a`\n",
    "\n",
    "    c) `swap(a, b)`\n",
    "\n",
    "    d) `temp = a; a = b`"
   ]
  },
  {
   "cell_type": "markdown",
   "metadata": {},
   "source": [
    "###  Open-ended Questions:\n",
    "\n",
    "1. Explain the difference between a variable holding a number and a variable holding a string of a number.\n",
    "2. How can type conversion help when working with user input?"
   ]
  },
  {
   "cell_type": "markdown",
   "metadata": {},
   "source": [
    "#  Assignment: Working with Variables"
   ]
  },
  {
   "cell_type": "markdown",
   "metadata": {},
   "source": [
    "### Task 1: Temperature Converter\n",
    "Write a program that takes a temperature in Celsius, stores it in a variable, converts it to Fahrenheit, and prints the result.\n",
    "\n",
    "**Formula**: `F = (C * 9/5) + 32`"
   ]
  },
  {
   "cell_type": "code",
   "execution_count": null,
   "metadata": {},
   "outputs": [],
   "source": [
    "# Your code here\n",
    "celsius = 0\n",
    "fahrenheit = (celsius * 9/5) + 32\n",
    "print(f\"{celsius}°C is equal to {fahrenheit}°F\")"
   ]
  },
  {
   "cell_type": "markdown",
   "metadata": {},
   "source": [
    "### Task 2: Simple Budget Tracker\n",
    "Create variables for:\n",
    "- your total budget\n",
    "- the cost of groceries\n",
    "- the cost of transport\n",
    "- the cost of entertainment\n",
    "\n",
    "Then calculate how much money you have left after expenses and print it nicely."
   ]
  },
  {
   "cell_type": "code",
   "execution_count": null,
   "metadata": {},
   "outputs": [],
   "source": [
    "# Your code here\n",
    "total_budget = 0\n",
    "groceries = 0\n",
    "transport = 0\n",
    "entertainment = 0\n",
    "\n",
    "remaining = total_budget - (groceries + transport + entertainment)\n",
    "print(f\"You have ${remaining} left after your expenses.\")"
   ]
  },
  {
   "cell_type": "markdown",
   "metadata": {},
   "source": [
    "# If-Else Statements – Quiz & Assignment"
   ]
  },
  {
   "cell_type": "markdown",
   "metadata": {},
   "source": [
    "###  Multiple Choice Questions:\n",
    "\n",
    "1. What will be the output of the following code?\n",
    "\n",
    "```python\n",
    "x = 10\n",
    "if x > 5 and x < 15:\n",
    "    print(\"A\")\n",
    "elif x > 15:\n",
    "    print(\"B\")\n",
    "else:\n",
    "    print(\"C\")\n",
    "```\n",
    "\n",
    "    a) A\n",
    "\n",
    "    b) B\n",
    "\n",
    "    c) C\n",
    "\n",
    "    d) Error\n",
    "\n",
    "\n",
    "2. Which of the following is equivalent to `not (x > 10)`?\n",
    "\n",
    "    a) `x > 10`\n",
    "\n",
    "    b) `x < 10`\n",
    "\n",
    "    c) `x <= 10`\n",
    "\n",
    "    d) `x >= 10`\n",
    "\n",
    "\n",
    "3. What does the following code print?\n",
    "\n",
    "```python\n",
    "x = 4\n",
    "if x % 2 == 0:\n",
    "    if x > 3:\n",
    "        print(\"Even and Large\")\n",
    "    else:\n",
    "        print(\"Even and Small\")\n",
    "```\n",
    "\n",
    "    a) Even and Large\n",
    "\n",
    "    b) Even and Small\n",
    "\n",
    "    c) Even\n",
    "\n",
    "    d) Error\n",
    "\n",
    "\n",
    "4. Which operator is used to check multiple conditions where all must be true?\n",
    "\n",
    "    a) `or`\n",
    "\n",
    "    b) `not`\n",
    "\n",
    "    c) `and`\n",
    "\n",
    "    d) `xor`\n",
    "\n",
    "\n",
    "5. What will be the output of the code?\n",
    "\n",
    "```python\n",
    "score = 75\n",
    "if score >= 90:\n",
    "    grade = \"A\"\n",
    "elif score >= 80:\n",
    "    grade = \"B\"\n",
    "elif score >= 70:\n",
    "    grade = \"C\"\n",
    "else:\n",
    "    grade = \"F\"\n",
    "print(grade)\n",
    "```\n",
    "\n",
    "    a) A\n",
    "\n",
    "    b) B\n",
    "\n",
    "    c) C\n",
    "\n",
    "    d) F"
   ]
  },
  {
   "cell_type": "markdown",
   "metadata": {},
   "source": [
    "###  Open-ended Questions:\n",
    "\n",
    "1. Explain the difference between `if-elif-else` and nested `if` statements. When would you use each?\n",
    "2. Write your own example of a piece of logic that checks a user’s age and prints a message based on ranges (child, teen, adult, senior)."
   ]
  },
  {
   "cell_type": "markdown",
   "metadata": {},
   "source": [
    "#  Assignment: Logic Builders"
   ]
  },
  {
   "cell_type": "markdown",
   "metadata": {},
   "source": [
    "### Task 1: Grading System\n",
    "Create a program that takes a student's score and prints their grade based on the following:\n",
    "- 90 and above: A\n",
    "- 80-89: B\n",
    "- 70-79: C\n",
    "- 60-69: D\n",
    "- Below 60: F\n",
    "\n",
    "Make sure to handle edge cases properly."
   ]
  },
  {
   "cell_type": "code",
   "execution_count": null,
   "metadata": {},
   "outputs": [],
   "source": [
    "# Your code here\n",
    "score = 0\n",
    "# Add your grading logic here"
   ]
  },
  {
   "cell_type": "markdown",
   "metadata": {},
   "source": [
    "### Task 2: Basic Login System\n",
    "Simulate a simple login system:\n",
    "- Ask the user to enter a username and password.\n",
    "- Check if they match predefined values (e.g., 'admin' / 'pass123')\n",
    "- Print 'Access Granted' or 'Access Denied' accordingly."
   ]
  },
  {
   "cell_type": "code",
   "execution_count": null,
   "metadata": {},
   "outputs": [],
   "source": [
    "# Your code here\n",
    "stored_username = \"admin\"\n",
    "stored_password = \"pass123\"\n",
    "\n",
    "# Simulate user input\n",
    "input_username = \"\"\n",
    "input_password = \"\"\n",
    "\n",
    "# Add logic to compare and print result"
   ]
  },
  {
   "cell_type": "markdown",
   "metadata": {},
   "source": [
    "### Task 3: Discount Calculator (BONUS)\n",
    "Write a program that calculates the final price after applying discounts based on the total purchase amount:\n",
    "- Over $200: 20% discount\n",
    "- Over $100: 10% discount\n",
    "- Otherwise: No discount"
   ]
  },
  {
   "cell_type": "code",
   "execution_count": null,
   "metadata": {},
   "outputs": [],
   "source": [
    "# Your code here\n",
    "total_amount = 0\n",
    "# Calculate discount and print final price"
   ]
  }
 ],
 "metadata": {
  "kernelspec": {
   "display_name": "Python 3",
   "language": "python",
   "name": "python3"
  },
  "language_info": {
   "name": "python",
   "version": "3.x"
  }
 },
 "nbformat": 4,
 "nbformat_minor": 5
}
