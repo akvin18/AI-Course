{
 "cells": [
  {
   "cell_type": "markdown",
   "metadata": {},
   "source": [
    "# Quiz: Python Functions\n",
    "\n",
    "### Multiple Choice Questions\n",
    "\n",
    "1. What is the correct way to define a function in Python?  \n",
    "a) `function myFunc():`  \n",
    "b) `def myFunc():`  \n",
    "c) `func myFunc():`  \n",
    "d) `define myFunc():`\n",
    "\n",
    "2. What will this code print?\n",
    "```python\n",
    "def greet(name):\n",
    "    return \"Hello \" + name\n",
    "\n",
    "print(greet(\"Alice\"))\n",
    "```\n",
    "a) Hello  \n",
    "b) Hello name  \n",
    "c) Hello Alice  \n",
    "d) greet(\"Alice\")\n",
    "\n",
    "3. What is the default return value of a function that doesn't explicitly return anything?  \n",
    "a) 0  \n",
    "b) None  \n",
    "c) False  \n",
    "d) Error\n",
    "\n",
    "4. Which keyword is used to exit a function and optionally pass back a value?  \n",
    "a) end  \n",
    "b) exit  \n",
    "c) break  \n",
    "d) return\n",
    "\n",
    "5. What will this code output?\n",
    "```python\n",
    "def add(x, y=5):\n",
    "    return x + y\n",
    "\n",
    "print(add(3))\n",
    "```\n",
    "a) 8  \n",
    "b) Error  \n",
    "c) 5  \n",
    "d) 3\n"
   ]
  },
  {
   "cell_type": "markdown",
   "metadata": {},
   "source": [
    "# Quiz: Python Classes and Objects\n",
    "\n",
    "### Multiple Choice Questions\n",
    "\n",
    "1. What is the purpose of the `__init__` method?  \n",
    "a) It prints a class name  \n",
    "b) It initializes new objects  \n",
    "c) It deletes objects  \n",
    "d) It checks memory usage\n",
    "\n",
    "2. How do you define a class in Python?  \n",
    "a) `object MyClass:`  \n",
    "b) `define MyClass:`  \n",
    "c) `class MyClass:`  \n",
    "d) `MyClass = class()`\n",
    "\n",
    "3. What will this code output?\n",
    "```python\n",
    "class Car:\n",
    "    def __init__(self, model):\n",
    "        self.model = model\n",
    "\n",
    "my_car = Car(\"Toyota\")\n",
    "print(my_car.model)\n",
    "```\n",
    "a) Car  \n",
    "b) Toyota  \n",
    "c) model  \n",
    "d) Error\n",
    "\n",
    "4. What is `self` used for inside a class method?  \n",
    "a) It refers to the current method  \n",
    "b) It refers to the class  \n",
    "c) It refers to the instance of the class  \n",
    "d) It is a global variable\n",
    "\n",
    "5. Which keyword is used to create an object from a class?  \n",
    "a) call  \n",
    "b) init  \n",
    "c) make  \n",
    "d) None of the above (you just call the class name)\n"
   ]
  },
  {
   "cell_type": "markdown",
   "metadata": {},
   "source": [
    "# Assignment: Functions and Classes"
   ]
  },
  {
   "cell_type": "markdown",
   "metadata": {},
   "source": [
    "### Task 1: Function to Calculate Average\n",
    "- Write a function that takes a list of numbers and returns the average.\n",
    "- Call the function with a sample list and print the result.\n"
   ]
  },
  {
   "cell_type": "code",
   "execution_count": null,
   "metadata": {},
   "outputs": [],
   "source": [
    "# Your code here\n",
    "def average(numbers):\n",
    "    pass"
   ]
  },
  {
   "cell_type": "markdown",
   "metadata": {},
   "source": [
    "### Task 2: Class for Book\n",
    "- Create a class `Book` with attributes: title, author, year.\n",
    "- Add a method `description` that returns a formatted string.\n",
    "- Create an object from the class and call the method.\n"
   ]
  },
  {
   "cell_type": "code",
   "execution_count": null,
   "metadata": {},
   "outputs": [],
   "source": [
    "# Your code here\n",
    "class Book:\n",
    "    def __init__(self, title, author, year):\n",
    "        pass\n",
    "\n",
    "    def description(self):\n",
    "        pass\n",
    "\n",
    "# Create object and call method"
   ]
  }
 ],
 "metadata": {
  "kernelspec": {
   "display_name": "Python 3",
   "language": "python",
   "name": "python3"
  },
  "language_info": {
   "name": "python",
   "version": "3.x"
  }
 },
 "nbformat": 4,
 "nbformat_minor": 5
}
